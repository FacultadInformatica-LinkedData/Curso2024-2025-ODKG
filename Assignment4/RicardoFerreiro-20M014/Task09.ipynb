{
 "cells": [
  {
   "cell_type": "markdown",
   "metadata": {
    "colab_type": "text",
    "id": "wIhJ69byU2Ad"
   },
   "source": [
    "**Task 09: Data linking**"
   ]
  },
  {
   "cell_type": "code",
   "execution_count": 5,
   "metadata": {
    "colab": {},
    "colab_type": "code",
    "id": "0sQG2Y915Isp"
   },
   "outputs": [
    {
     "name": "stdout",
     "output_type": "stream",
     "text": [
      "Requirement already satisfied: rdflib in c:\\users\\richi\\appdata\\local\\packages\\pythonsoftwarefoundation.python.3.11_qbz5n2kfra8p0\\localcache\\local-packages\\python311\\site-packages (7.0.0)\n",
      "Requirement already satisfied: isodate<0.7.0,>=0.6.0 in c:\\users\\richi\\appdata\\local\\packages\\pythonsoftwarefoundation.python.3.11_qbz5n2kfra8p0\\localcache\\local-packages\\python311\\site-packages (from rdflib) (0.6.1)\n",
      "Requirement already satisfied: pyparsing<4,>=2.1.0 in c:\\users\\richi\\appdata\\local\\packages\\pythonsoftwarefoundation.python.3.11_qbz5n2kfra8p0\\localcache\\local-packages\\python311\\site-packages (from rdflib) (3.1.4)\n",
      "Requirement already satisfied: six in c:\\users\\richi\\appdata\\local\\packages\\pythonsoftwarefoundation.python.3.11_qbz5n2kfra8p0\\localcache\\local-packages\\python311\\site-packages (from isodate<0.7.0,>=0.6.0->rdflib) (1.16.0)\n"
     ]
    },
    {
     "name": "stderr",
     "output_type": "stream",
     "text": [
      "\n",
      "[notice] A new release of pip is available: 24.0 -> 24.2\n",
      "[notice] To update, run: C:\\Users\\richi\\AppData\\Local\\Microsoft\\WindowsApps\\PythonSoftwareFoundation.Python.3.11_qbz5n2kfra8p0\\python.exe -m pip install --upgrade pip\n"
     ]
    }
   ],
   "source": [
    "!pip install rdflib\n",
    "github_storage = \"https://raw.githubusercontent.com/FacultadInformatica-LinkedData/Curso2024-2025/master/Assignment4/course_materials/\""
   ]
  },
  {
   "cell_type": "code",
   "execution_count": 17,
   "metadata": {
    "colab": {},
    "colab_type": "code",
    "id": "Jb4QeLue5NLr"
   },
   "outputs": [
    {
     "name": "stdout",
     "output_type": "stream",
     "text": [
      "http://data.four.org#0004 http://www.w3.org/2001/vcard-rdf/3.0#Given Tim\n",
      "http://data.four.org#0003 http://www.w3.org/2001/vcard-rdf/3.0#FN Harry Potter\n",
      "http://data.four.org#0003 http://www.w3.org/1999/02/22-rdf-syntax-ns#type http://data.four.org#Person\n",
      "http://data.four.org#0004 http://www.w3.org/2001/vcard-rdf/3.0#Family Berners Lee\n",
      "http://data.four.org#0004 http://www.w3.org/2001/vcard-rdf/3.0#FN Tim Berners Lee\n",
      "http://data.four.org#0001 http://www.w3.org/2001/vcard-rdf/3.0#FN Sara Jones\n",
      "http://www.w3.org/2001/vcard-rdf/3.0/Given http://www.w3.org/1999/02/22-rdf-syntax-ns#type http://www.w3.org/2000/01/rdf-schema#Datatype\n",
      "http://www.w3.org/2001/vcard-rdf/3.0/Family http://www.w3.org/1999/02/22-rdf-syntax-ns#type http://www.w3.org/2000/01/rdf-schema#Property\n",
      "http://data.four.org#0004 http://www.w3.org/1999/02/22-rdf-syntax-ns#type http://data.four.org#Person\n",
      "http://data.four.org#0005 http://www.w3.org/2001/vcard-rdf/3.0#Family Doe\n",
      "http://data.four.org#0001 http://www.w3.org/1999/02/22-rdf-syntax-ns#type http://data.four.org#Person\n",
      "http://www.w3.org/2001/vcard-rdf/3.0/Given http://www.w3.org/2000/01/rdf-schema#range http://www.w3.org/2001/XMLSchema#string\n",
      "http://www.w3.org/2001/vcard-rdf/3.0/FN http://www.w3.org/1999/02/22-rdf-syntax-ns#type http://www.w3.org/2000/01/rdf-schema#Datatype\n",
      "http://data.four.org#0003 http://www.w3.org/2001/vcard-rdf/3.0#Given Harry\n",
      "http://www.w3.org/2001/vcard-rdf/3.0/FN http://www.w3.org/2000/01/rdf-schema#range http://www.w3.org/2001/XMLSchema#string\n",
      "http://data.four.org#0001 http://www.w3.org/2001/vcard-rdf/3.0#Family Jones\n",
      "http://data.four.org#0001 http://www.w3.org/2001/vcard-rdf/3.0#Given Sara\n",
      "http://data.four.org#0002 http://www.w3.org/1999/02/22-rdf-syntax-ns#type http://data.four.org#Person\n",
      "http://data.four.org#0002 http://www.w3.org/2001/vcard-rdf/3.0#Family Smith\n",
      "http://data.four.org#0005 http://www.w3.org/1999/02/22-rdf-syntax-ns#type http://data.four.org#Person\n",
      "http://data.four.org#0005 http://www.w3.org/2001/vcard-rdf/3.0#FN John Doe\n",
      "http://data.four.org#0002 http://www.w3.org/2001/vcard-rdf/3.0#Given Jonathan\n",
      "http://data.four.org#0005 http://www.w3.org/2001/vcard-rdf/3.0#Given John\n",
      "http://data.four.org#0003 http://www.w3.org/2001/vcard-rdf/3.0#Family Potter\n",
      "http://www.w3.org/2001/vcard-rdf/3.0/Family http://www.w3.org/2000/01/rdf-schema#range http://www.w3.org/2001/XMLSchema#string\n",
      "http://data.four.org#Person http://www.w3.org/1999/02/22-rdf-syntax-ns#type http://www.w3.org/2000/01/rdf-schema#Class\n",
      "http://data.four.org#0002 http://www.w3.org/2001/vcard-rdf/3.0#FN John Smith\n"
     ]
    }
   ],
   "source": [
    "from rdflib import Graph, Namespace, Literal, URIRef\n",
    "g1 = Graph()\n",
    "g2 = Graph()\n",
    "g3 = Graph()\n",
    "g1.parse(github_storage+\"rdf/data03.rdf\", format=\"xml\")\n",
    "g2.parse(github_storage+\"rdf/data04.rdf\", format=\"xml\")\n",
    "\n",
    "for s, p, o in g2:\n",
    "  print(s,p,o)"
   ]
  },
  {
   "cell_type": "markdown",
   "metadata": {
    "colab_type": "text",
    "id": "5wfBZiQSU827"
   },
   "source": [
    "Busca individuos en los dos grafos y enlázalos mediante la propiedad OWL:sameAs, inserta estas coincidencias en g3. Consideramos dos individuos iguales si tienen el mismo apodo y nombre de familia. Ten en cuenta que las URI no tienen por qué ser iguales para un mismo individuo en los dos grafos."
   ]
  },
  {
   "cell_type": "code",
   "execution_count": 26,
   "metadata": {
    "colab": {},
    "colab_type": "code",
    "id": "yF5KHy7vU9ot"
   },
   "outputs": [
    {
     "name": "stdout",
     "output_type": "stream",
     "text": [
      "http://data.three.org#SaraJones\n",
      "http://data.three.org#JohnSmith\n",
      "http://data.three.org#JohnDoe\n",
      "http://data.four.org#0001\n",
      "http://data.four.org#0002\n",
      "http://data.four.org#0003\n",
      "http://data.four.org#0004\n",
      "http://data.four.org#0005\n",
      "(rdflib.term.Literal('Sara', datatype=rdflib.term.URIRef('http://www.w3.org/2001/XMLSchema#string')), rdflib.term.Literal('Jones', datatype=rdflib.term.URIRef('http://www.w3.org/2001/XMLSchema#string')))\n",
      "Coincidencia encontrada: http://data.three.org#SaraJones es el mismo que http://data.four.org#0001\n",
      "(rdflib.term.Literal('Jonathan', datatype=rdflib.term.URIRef('http://www.w3.org/2001/XMLSchema#string')), rdflib.term.Literal('Smith', datatype=rdflib.term.URIRef('http://www.w3.org/2001/XMLSchema#string')))\n",
      "(rdflib.term.Literal('Harry', datatype=rdflib.term.URIRef('http://www.w3.org/2001/XMLSchema#string')), rdflib.term.Literal('Potter', datatype=rdflib.term.URIRef('http://www.w3.org/2001/XMLSchema#string')))\n",
      "(rdflib.term.Literal('Tim', datatype=rdflib.term.URIRef('http://www.w3.org/2001/XMLSchema#string')), rdflib.term.Literal('Berners Lee', datatype=rdflib.term.URIRef('http://www.w3.org/2001/XMLSchema#string')))\n",
      "(rdflib.term.Literal('John', datatype=rdflib.term.URIRef('http://www.w3.org/2001/XMLSchema#string')), rdflib.term.Literal('Doe', datatype=rdflib.term.URIRef('http://www.w3.org/2001/XMLSchema#string')))\n",
      "Coincidencia encontrada: http://data.three.org#JohnDoe es el mismo que http://data.four.org#0005\n",
      "Sujeto: http://data.three.org#JohnDoe, Predicado: http://www.w3.org/2002/07/owl#sameAs, Objeto: http://data.four.org#0005\n",
      "Sujeto: http://data.three.org#SaraJones, Predicado: http://www.w3.org/2002/07/owl#sameAs, Objeto: http://data.four.org#0001\n"
     ]
    }
   ],
   "source": [
    "\n",
    "from rdflib.plugins.sparql import prepareQuery\n",
    "from rdflib.namespace import RDF, RDFS\n",
    "\n",
    "ns1 = Namespace(\"http://data.three.org#\")  \n",
    "ns2 = Namespace(\"http://data.four.org#\")\n",
    "VCARD = Namespace(\"http://www.w3.org/2001/vcard-rdf/3.0#\")\n",
    "OWL = Namespace(\"http://www.w3.org/2002/07/owl#\")\n",
    "\n",
    "# Consultar individuos en el primer grafo\n",
    "query1 = prepareQuery('''\n",
    "    SELECT ?person ?givenName ?familyName WHERE {\n",
    "        ?person rdf:type ns:Person .\n",
    "        ?person VCARD:Given ?givenName . \n",
    "        ?person VCARD:Family ?familyName . \n",
    "    }\n",
    "''', initNs={\"rdf\": RDF, \"ns\": ns1, \"VCARD\": VCARD}\n",
    ")\n",
    "\n",
    "# Crear un diccionario para almacenar los individuos del primer grafo\n",
    "individuals_g1 = {}\n",
    "for r in g1.query(query1):\n",
    "    individuals_g1[(r.givenName, r.familyName)] = r.person\n",
    "\n",
    "# Consultar individuos en el segundo grafo\n",
    "query2 = prepareQuery('''\n",
    "    SELECT ?person ?givenName ?familyName WHERE {\n",
    "        ?person rdf:type ns:Person .\n",
    "        ?person VCARD:Given ?givenName . \n",
    "        ?person VCARD:Family ?familyName . \n",
    "    }\n",
    "''', initNs={\"rdf\": RDF, \"ns\": ns2, \"VCARD\": VCARD}\n",
    ")\n",
    "\n",
    "for r in g1.query(query1):\n",
    "  print(r.person)\n",
    "\n",
    "for r in g2.query(query2):\n",
    "  print(r.person)\n",
    "\n",
    "# Buscar coincidencias en el segundo grafo\n",
    "for r in g2.query(query2):\n",
    "    # Comprobar si hay coincidencia en el primer grafo\n",
    "    key = (r.givenName, r.familyName)\n",
    "    \n",
    "    if key in individuals_g1:\n",
    "        # Añadir la relación owl:sameAs al grafo g3\n",
    "        g3.add((individuals_g1[key], OWL.sameAs, r.person))\n",
    "        print(f\"Coincidencia encontrada: {individuals_g1[key]} es el mismo que {r.person}\")\n",
    "\n",
    "# Guardar el nuevo grafo con coincidencias\n",
    "g3.serialize(destination=\"g3.rdf\", format=\"xml\")\n",
    "\n",
    "for s, p, o in g3:\n",
    "    print(f\"Sujeto: {s}, Predicado: {p}, Objeto: {o}\")"
   ]
  }
 ],
 "metadata": {
  "colab": {
   "collapsed_sections": [],
   "name": "Task09.ipynb",
   "provenance": []
  },
  "kernelspec": {
   "display_name": "Python 3 (ipykernel)",
   "language": "python",
   "name": "python3"
  },
  "language_info": {
   "codemirror_mode": {
    "name": "ipython",
    "version": 3
   },
   "file_extension": ".py",
   "mimetype": "text/x-python",
   "name": "python",
   "nbconvert_exporter": "python",
   "pygments_lexer": "ipython3",
   "version": "3.11.9"
  }
 },
 "nbformat": 4,
 "nbformat_minor": 1
}
