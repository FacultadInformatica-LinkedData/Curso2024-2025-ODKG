{
 "cells": [
  {
   "cell_type": "markdown",
   "metadata": {
    "colab_type": "text",
    "id": "rb2ewz-dC6GC"
   },
   "source": [
    "**Task 08: Completing missing data**"
   ]
  },
  {
   "cell_type": "code",
   "execution_count": 2,
   "metadata": {
    "colab": {},
    "colab_type": "code",
    "id": "0sQG2Y915Isp"
   },
   "outputs": [
    {
     "name": "stdout",
     "output_type": "stream",
     "text": [
      "Requirement already satisfied: rdflib in c:\\users\\richi\\appdata\\local\\packages\\pythonsoftwarefoundation.python.3.11_qbz5n2kfra8p0\\localcache\\local-packages\\python311\\site-packages (7.0.0)\n",
      "Requirement already satisfied: isodate<0.7.0,>=0.6.0 in c:\\users\\richi\\appdata\\local\\packages\\pythonsoftwarefoundation.python.3.11_qbz5n2kfra8p0\\localcache\\local-packages\\python311\\site-packages (from rdflib) (0.6.1)\n",
      "Requirement already satisfied: pyparsing<4,>=2.1.0 in c:\\users\\richi\\appdata\\local\\packages\\pythonsoftwarefoundation.python.3.11_qbz5n2kfra8p0\\localcache\\local-packages\\python311\\site-packages (from rdflib) (3.1.4)\n",
      "Requirement already satisfied: six in c:\\users\\richi\\appdata\\local\\packages\\pythonsoftwarefoundation.python.3.11_qbz5n2kfra8p0\\localcache\\local-packages\\python311\\site-packages (from isodate<0.7.0,>=0.6.0->rdflib) (1.16.0)\n"
     ]
    },
    {
     "name": "stderr",
     "output_type": "stream",
     "text": [
      "\n",
      "[notice] A new release of pip is available: 24.0 -> 24.2\n",
      "[notice] To update, run: C:\\Users\\richi\\AppData\\Local\\Microsoft\\WindowsApps\\PythonSoftwareFoundation.Python.3.11_qbz5n2kfra8p0\\python.exe -m pip install --upgrade pip\n"
     ]
    }
   ],
   "source": [
    "!pip install rdflib\n",
    "github_storage = \"https://raw.githubusercontent.com/FacultadInformatica-LinkedData/Curso2024-2025/master/Assignment4/course_materials\""
   ]
  },
  {
   "cell_type": "code",
   "execution_count": 3,
   "metadata": {
    "colab": {},
    "colab_type": "code",
    "id": "Jb4QeLue5NLr"
   },
   "outputs": [
    {
     "data": {
      "text/plain": [
       "<Graph identifier=Nff1cae70468b4091b0b0fadeb894ed5b (<class 'rdflib.graph.Graph'>)>"
      ]
     },
     "execution_count": 3,
     "metadata": {},
     "output_type": "execute_result"
    }
   ],
   "source": [
    "from rdflib import Graph, Namespace, Literal, URIRef\n",
    "g1 = Graph()\n",
    "g2 = Graph()\n",
    "g1.parse(github_storage+\"/rdf/data01.rdf\", format=\"xml\")\n",
    "g2.parse(github_storage+\"/rdf/data02.rdf\", format=\"xml\")"
   ]
  },
  {
   "cell_type": "markdown",
   "metadata": {
    "colab_type": "text",
    "id": "kxxKghwBElOm"
   },
   "source": [
    "Tarea: lista todos los elementos de la clase Person en el primer grafo (data01.rdf) y completa los campos (given name, family name y email) que puedan faltar con los datos del segundo grafo (data02.rdf). Puedes usar consultas SPARQL o iterar el grafo, o ambas cosas."
   ]
  },
  {
   "cell_type": "code",
   "execution_count": 17,
   "metadata": {},
   "outputs": [
    {
     "name": "stdout",
     "output_type": "stream",
     "text": [
      "http://data.org#SaraJones\n",
      "http://data.org#JohnSmith\n",
      "http://data.org#JohnDoe\n",
      "http://data.org#HarryPotter\n"
     ]
    }
   ],
   "source": [
    "from rdflib.plugins.sparql import prepareQuery\n",
    "from rdflib.namespace import RDF, RDFS\n",
    "\n",
    "ns = Namespace(\"http://data.org#\")\n",
    "VCARD = Namespace(\"http://www.w3.org/2001/vcard-rdf/3.0#\")\n",
    "\n",
    "q1 = prepareQuery('''\n",
    "    SELECT ?person ?givenName ?familyName ?email WHERE {\n",
    "        ?person rdf:type ns:Person .\n",
    "        OPTIONAL { ?person VCARD:Given ?givenName . }\n",
    "        OPTIONAL { ?person VCARD:Family ?familyName . }\n",
    "        OPTIONAL { ?person VCARD:EMAIL ?email . }\n",
    "    }\n",
    "''', initNs={\"rdf\": RDF, \"ns\": ns, \"VCARD\": VCARD}\n",
    ")\n",
    "\n",
    "for r in g1.query(q1):\n",
    "  print(r.person)"
   ]
  },
  {
   "cell_type": "code",
   "execution_count": 20,
   "metadata": {},
   "outputs": [
    {
     "name": "stdout",
     "output_type": "stream",
     "text": [
      "Person: http://data.org#SaraJones\n",
      "Given Name: Sara\n",
      "Family Name: Jones\n",
      "Email: sara.jones@data.org\n",
      "---------------------------\n",
      "Person: http://data.org#JohnSmith\n",
      "Given Name: John\n",
      "Family Name: Smith\n",
      "Email: j.smith@data.org\n",
      "---------------------------\n",
      "Person: http://data.org#JohnDoe\n",
      "Given Name: John\n",
      "Family Name: Doe\n",
      "Email: doe@data.org\n",
      "---------------------------\n",
      "Person: http://data.org#HarryPotter\n",
      "Given Name: Harry\n",
      "Family Name: Potter\n",
      "Email: hpotter@hogwarts.org\n",
      "---------------------------\n"
     ]
    }
   ],
   "source": [
    "person_data = {}\n",
    "for r in g1.query(q1):\n",
    "    person_data[r.person] = {\n",
    "        \"givenName\": r.givenName,\n",
    "        \"familyName\": r.familyName,\n",
    "        \"email\": r.email\n",
    "    }\n",
    "\n",
    "for person_uri in person_data.keys():\n",
    "    # Obtener el nombre dado, apellido y correo electrónico desde el segundo grafo\n",
    "    query2 = prepareQuery('''\n",
    "        SELECT ?givenName ?familyName ?email WHERE {\n",
    "            ?person rdf:type ns:Person .\n",
    "            FILTER (?person = ?personUri)\n",
    "            OPTIONAL { ?person VCARD:Given ?givenName . }\n",
    "            OPTIONAL { ?person VCARD:Family ?familyName . }\n",
    "            OPTIONAL { ?person VCARD:EMAIL ?email . }\n",
    "        }\n",
    "    ''', initNs={\"rdf\": RDF, \"ns\": ns, \"VCARD\": VCARD}\n",
    "    )\n",
    "\n",
    "    # Ejecutar la consulta\n",
    "    for r in g2.query(query2, initBindings={\"personUri\": person_uri}):\n",
    "        # Completar los campos que faltan\n",
    "        if not person_data[person_uri][\"givenName\"]:\n",
    "            person_data[person_uri][\"givenName\"] = r.givenName\n",
    "        if not person_data[person_uri][\"familyName\"]:\n",
    "            person_data[person_uri][\"familyName\"] = r.familyName\n",
    "        if not person_data[person_uri][\"email\"]:\n",
    "            person_data[person_uri][\"email\"] = r.email\n",
    "\n",
    "for person, details in person_data.items():\n",
    "    print(f\"Person: {person}\")\n",
    "    print(f\"Given Name: {details['givenName']}\")\n",
    "    print(f\"Family Name: {details['familyName']}\")\n",
    "    print(f\"Email: {details['email']}\")\n",
    "    print(\"---------------------------\")\n"
   ]
  }
 ],
 "metadata": {
  "colab": {
   "collapsed_sections": [],
   "name": "Task08.ipynb",
   "provenance": []
  },
  "kernelspec": {
   "display_name": "Python 3 (ipykernel)",
   "language": "python",
   "name": "python3"
  },
  "language_info": {
   "codemirror_mode": {
    "name": "ipython",
    "version": 3
   },
   "file_extension": ".py",
   "mimetype": "text/x-python",
   "name": "python",
   "nbconvert_exporter": "python",
   "pygments_lexer": "ipython3",
   "version": "3.11.9"
  }
 },
 "nbformat": 4,
 "nbformat_minor": 1
}
