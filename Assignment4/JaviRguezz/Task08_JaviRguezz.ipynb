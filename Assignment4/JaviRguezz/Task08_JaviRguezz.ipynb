{
 "cells": [
  {
   "cell_type": "markdown",
   "metadata": {
    "colab_type": "text",
    "id": "rb2ewz-dC6GC"
   },
   "source": [
    "**Task 08: Completing missing data**"
   ]
  },
  {
   "cell_type": "code",
   "execution_count": 1,
   "metadata": {
    "colab": {},
    "colab_type": "code",
    "id": "0sQG2Y915Isp"
   },
   "outputs": [
    {
     "name": "stdout",
     "output_type": "stream",
     "text": [
      "Requirement already satisfied: rdflib in c:\\users\\javir\\anaconda3\\lib\\site-packages (7.0.0)\n",
      "Requirement already satisfied: isodate<0.7.0,>=0.6.0 in c:\\users\\javir\\anaconda3\\lib\\site-packages (from rdflib) (0.6.1)\n",
      "Requirement already satisfied: pyparsing<4,>=2.1.0 in c:\\users\\javir\\anaconda3\\lib\\site-packages (from rdflib) (3.0.9)\n",
      "Requirement already satisfied: six in c:\\users\\javir\\anaconda3\\lib\\site-packages (from isodate<0.7.0,>=0.6.0->rdflib) (1.16.0)\n"
     ]
    }
   ],
   "source": [
    "!pip install rdflib\n",
    "github_storage = \"https://raw.githubusercontent.com/FacultadInformatica-LinkedData/Curso2024-2025/master/Assignment4/course_materials\""
   ]
  },
  {
   "cell_type": "code",
   "execution_count": 2,
   "metadata": {
    "colab": {},
    "colab_type": "code",
    "id": "Jb4QeLue5NLr"
   },
   "outputs": [
    {
     "data": {
      "text/plain": [
       "<Graph identifier=N60f070612741406195957b73f5a4e18c (<class 'rdflib.graph.Graph'>)>"
      ]
     },
     "execution_count": 2,
     "metadata": {},
     "output_type": "execute_result"
    }
   ],
   "source": [
    "from rdflib import Graph, Namespace, Literal, URIRef\n",
    "g1 = Graph()\n",
    "g2 = Graph()\n",
    "g1.parse(github_storage+\"/rdf/data01.rdf\", format=\"xml\")\n",
    "g2.parse(github_storage+\"/rdf/data02.rdf\", format=\"xml\")"
   ]
  },
  {
   "cell_type": "markdown",
   "metadata": {
    "colab_type": "text",
    "id": "kxxKghwBElOm"
   },
   "source": [
    "Tarea: lista todos los elementos de la clase Person en el primer grafo (data01.rdf) y completa los campos (given name, family name y email) que puedan faltar con los datos del segundo grafo (data02.rdf). Puedes usar consultas SPARQL o iterar el grafo, o ambas cosas."
   ]
  },
  {
   "cell_type": "code",
   "execution_count": 3,
   "metadata": {},
   "outputs": [],
   "source": [
    "from rdflib.namespace import RDF, FOAF\n",
    "\n",
    "for s in g1.subjects(RDF.type, FOAF.Person):\n",
    "  given_name = g1.value(subject=s, predicate=FOAF.givenName)\n",
    "  family_name = g1.value(subject=s, predicate=FOAF.familyName)\n",
    "  email = g1.value(subject=s, predicate=FOAF.mbox)\n",
    "\n",
    "  if not given_name:\n",
    "    given_name = g2.value(subject=s, predicate=FOAF.givenName)\n",
    "    if given_name:\n",
    "      g1.add((s, FOAF.givenName, given_name))\n",
    "\n",
    "  if not family_name:\n",
    "    family_name = g2.value(subject=s, predicate=FOAF.familyName)\n",
    "    if family_name:\n",
    "      g1.add((s, FOAF.familyName, family_name))\n",
    "\n",
    "  if not email:\n",
    "    email = g2.value(subject=s, predicate=FOAF.mbox)\n",
    "    if email:\n",
    "      g1.add((s, FOAF.mbox, email))"
   ]
  }
 ],
 "metadata": {
  "colab": {
   "collapsed_sections": [],
   "name": "Task08.ipynb",
   "provenance": []
  },
  "kernelspec": {
   "display_name": "Python 3 (ipykernel)",
   "language": "python",
   "name": "python3"
  },
  "language_info": {
   "codemirror_mode": {
    "name": "ipython",
    "version": 3
   },
   "file_extension": ".py",
   "mimetype": "text/x-python",
   "name": "python",
   "nbconvert_exporter": "python",
   "pygments_lexer": "ipython3",
   "version": "3.11.7"
  }
 },
 "nbformat": 4,
 "nbformat_minor": 1
}
