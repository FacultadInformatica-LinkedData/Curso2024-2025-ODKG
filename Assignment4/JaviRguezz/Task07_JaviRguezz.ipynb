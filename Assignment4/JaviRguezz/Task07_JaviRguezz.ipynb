{
  "cells": [
    {
      "cell_type": "markdown",
      "metadata": {
        "id": "nOOPLCHF7hLB"
      },
      "source": [
        "**Task 07: Querying RDF(s)**"
      ]
    },
    {
      "cell_type": "code",
      "execution_count": 1,
      "metadata": {
        "colab": {
          "base_uri": "https://localhost:8080/",
          "height": 211
        },
        "id": "Yl9npCt8n6m-",
        "outputId": "096014c0-f1ad-4bd6-bada-ab3561ff1367"
      },
      "outputs": [
        {
          "name": "stdout",
          "output_type": "stream",
          "text": [
            "Requirement already satisfied: rdflib in c:\\users\\javir\\anaconda3\\lib\\site-packages (7.0.0)\n",
            "Requirement already satisfied: isodate<0.7.0,>=0.6.0 in c:\\users\\javir\\anaconda3\\lib\\site-packages (from rdflib) (0.6.1)\n",
            "Requirement already satisfied: pyparsing<4,>=2.1.0 in c:\\users\\javir\\anaconda3\\lib\\site-packages (from rdflib) (3.0.9)\n",
            "Requirement already satisfied: six in c:\\users\\javir\\anaconda3\\lib\\site-packages (from isodate<0.7.0,>=0.6.0->rdflib) (1.16.0)\n"
          ]
        }
      ],
      "source": [
        "!pip install rdflib\n",
        "github_storage = \"https://raw.githubusercontent.com/FacultadInformatica-LinkedData/Curso2024-2025/master/Assignment4/course_materials\""
      ]
    },
    {
      "cell_type": "markdown",
      "metadata": {
        "id": "XY7aPc86Bqoo"
      },
      "source": [
        "First let's read the RDF file"
      ]
    },
    {
      "cell_type": "code",
      "execution_count": 2,
      "metadata": {
        "colab": {
          "base_uri": "https://localhost:8080/",
          "height": 35
        },
        "id": "9ERh415on7kF",
        "outputId": "395dc571-ef76-4330-cf4b-0b9db3aa5277"
      },
      "outputs": [
        {
          "data": {
            "text/plain": [
              "<Graph identifier=Nc6c317efadc7474495dd380ee6b16388 (<class 'rdflib.graph.Graph'>)>"
            ]
          },
          "execution_count": 2,
          "metadata": {},
          "output_type": "execute_result"
        }
      ],
      "source": [
        "from rdflib import Graph, Namespace, Literal\n",
        "from rdflib.namespace import RDF, RDFS\n",
        "g = Graph()\n",
        "g.namespace_manager.bind('ns', Namespace(\"http://somewhere#\"), override=False)\n",
        "g.namespace_manager.bind('vcard', Namespace(\"http://www.w3.org/2001/vcard-rdf/3.0#\"), override=False)\n",
        "g.parse(github_storage+\"/rdf/example6.rdf\", format=\"xml\")"
      ]
    },
    {
      "cell_type": "markdown",
      "metadata": {
        "id": "qp1oe2Eddsvo"
      },
      "source": [
        "**TASK 7.1: List all subclasses of \"LivingThing\" with RDFLib and SPARQL**"
      ]
    },
    {
      "cell_type": "code",
      "execution_count": 5,
      "metadata": {
        "id": "tRcSWuMHOXBl"
      },
      "outputs": [
        {
          "name": "stdout",
          "output_type": "stream",
          "text": [
            "(rdflib.term.URIRef('http://somewhere#Person'),)\n",
            "(rdflib.term.URIRef('http://somewhere#Animal'),)\n"
          ]
        }
      ],
      "source": [
        "# TO DO\n",
        "from rdflib.plugins.sparql import prepareQuery\n",
        "ns = Namespace(\"http://somewhere#\")\n",
        "\n",
        "q1 = prepareQuery('''\n",
        "  SELECT ?subclass WHERE {\n",
        "    ?subclass rdfs:subClassOf ns:LivingThing.\n",
        "  }\n",
        "  ''',\n",
        "  initNs = { \"rdfs\": RDFS, \"ns\": ns}\n",
        ")\n",
        "# Visualize the results\n",
        "\n",
        "for r in g.query(q1):\n",
        "  print(r)"
      ]
    },
    {
      "cell_type": "markdown",
      "metadata": {
        "id": "gM3DASkTQQ5Y"
      },
      "source": [
        "**TASK 7.2: List all individuals of \"Person\" with RDFLib and SPARQL (remember the subClasses)**\n"
      ]
    },
    {
      "cell_type": "code",
      "execution_count": 7,
      "metadata": {
        "id": "LiKSPHRzS-XJ"
      },
      "outputs": [
        {
          "name": "stdout",
          "output_type": "stream",
          "text": [
            "(rdflib.term.URIRef('http://somewhere#SaraJones'),)\n",
            "(rdflib.term.URIRef('http://somewhere#JohnSmith'),)\n",
            "(rdflib.term.URIRef('http://somewhere#JaneSmith'),)\n",
            "(rdflib.term.URIRef('http://somewhere#JimGonzalez'),)\n"
          ]
        }
      ],
      "source": [
        "# TO DO\n",
        "q2 = prepareQuery('''\n",
        "  SELECT ?individual WHERE {\n",
        "    { ?individual rdf:type ns:Person. }\n",
        "    UNION\n",
        "    { ?subclass rdfs:subClassOf ns:Person. ?individual rdf:type ?subclass.}\n",
        "  }\n",
        "  ''',\n",
        "  initNs = { \"rdf\": RDF, \"rdfs\": RDFS, \"ns\": ns}\n",
        ")\n",
        "# Visualize the results\n",
        "for r in g.query(q2):\n",
        "  print(r)"
      ]
    },
    {
      "cell_type": "markdown",
      "metadata": {
        "id": "MXBqtBkJd22I"
      },
      "source": [
        "**TASK 7.3: List all individuals of just \"Person\" or \"Animal\". You do not need to list the individuals of the subclasses of person (in SPARQL only)**\n"
      ]
    },
    {
      "cell_type": "code",
      "execution_count": 8,
      "metadata": {
        "id": "APQGv3NHX8Tf"
      },
      "outputs": [
        {
          "name": "stdout",
          "output_type": "stream",
          "text": [
            "(rdflib.term.URIRef('http://somewhere#SaraJones'),)\n",
            "(rdflib.term.URIRef('http://somewhere#JohnSmith'),)\n",
            "(rdflib.term.URIRef('http://somewhere#RockySmith'),)\n",
            "(rdflib.term.URIRef('http://somewhere#Bugs'),)\n"
          ]
        }
      ],
      "source": [
        "# TO DO\n",
        "q3 = prepareQuery('''\n",
        "  SELECT ?individual WHERE {\n",
        "    { ?individual rdf:type ns:Person. }\n",
        "    UNION\n",
        "    { ?individual rdf:type ns:Animal. }\n",
        "  }\n",
        "  ''',\n",
        "  initNs = { \"rdf\": RDF, \"ns\": ns}\n",
        ")\n",
        "# Visualize the results\n",
        "for r in g.query(q3):\n",
        "  print(r)"
      ]
    },
    {
      "cell_type": "markdown",
      "metadata": {
        "id": "3NyI7M2VNr9R"
      },
      "source": [
        "**TASK 7.4:  List the name of the persons who know Rocky (in SPARQL only)**"
      ]
    },
    {
      "cell_type": "code",
      "execution_count": 9,
      "metadata": {
        "id": "I_CNoIKdNpbx"
      },
      "outputs": [],
      "source": [
        "# TO DO\n",
        "q4 = prepareQuery('''\n",
        "  SELECT ?name WHERE {\n",
        "    ?person vcard:FN ?name.\n",
        "    ?person ns:knows ns:RockySmith.\n",
        "  }\n",
        "  ''',\n",
        "  initNs = { \"vcard\": Namespace(\"http://www.w3.org/2001/vcard-rdf/3.0#\"), \"ns\": ns}\n",
        ")\n",
        "# Visualize the results\n",
        "for r in g.query(q4):\n",
        "  print(r)"
      ]
    },
    {
      "cell_type": "markdown",
      "metadata": {
        "id": "kyjGsyxDPa2C"
      },
      "source": [
        "**Task 7.5: List the name of those animals who know at least another animal in the graph (in SPARQL only)**"
      ]
    },
    {
      "cell_type": "code",
      "execution_count": 10,
      "metadata": {
        "id": "yoVwVZUAPaLm"
      },
      "outputs": [],
      "source": [
        "# TO DO\n",
        "q5 = prepareQuery('''\n",
        "  SELECT ?name WHERE {\n",
        "    ?animal rdf:type ns:Animal.\n",
        "    ?animal vcard:FN ?name.\n",
        "    ?animal ns:knows ?otherAnimal.\n",
        "    ?otherAnimal rdf:type ns:Animal.\n",
        "  }\n",
        "  ''',\n",
        "  initNs = { \"rdf\": RDF, \"vcard\": Namespace(\"http://www.w3.org/2001/vcard-rdf/3.0#\"), \"ns\": ns}\n",
        ")\n",
        "# Visualize the results\n",
        "for r in g.query(q5):\n",
        "  print(r)"
      ]
    },
    {
      "cell_type": "markdown",
      "metadata": {
        "id": "oU_Rd2ByXBaV"
      },
      "source": [
        "**Task 7.6: List the age of all living things in descending order (in SPARQL only)**"
      ]
    },
    {
      "cell_type": "code",
      "execution_count": 11,
      "metadata": {
        "id": "KPL9SUPiXEJZ"
      },
      "outputs": [],
      "source": [
        "# TO DO\n",
        "q6 = prepareQuery('''\n",
        "  SELECT ?age WHERE {\n",
        "    ?livingThing rdf:type ?type.\n",
        "    ?type rdfs:subClassOf* ns:LivingThing.\n",
        "    ?livingThing ns:age ?age.\n",
        "  } ORDER BY DESC(?age)\n",
        "  ''',\n",
        "  initNs = { \"rdf\": RDF, \"rdfs\": RDFS, \"ns\": ns}\n",
        ")\n",
        "# Visualize the results\n",
        "for r in g.query(q6):\n",
        "  print(r)"
      ]
    }
  ],
  "metadata": {
    "colab": {
      "provenance": []
    },
    "kernelspec": {
      "display_name": "Python 3 (ipykernel)",
      "language": "python",
      "name": "python3"
    },
    "language_info": {
      "codemirror_mode": {
        "name": "ipython",
        "version": 3
      },
      "file_extension": ".py",
      "mimetype": "text/x-python",
      "name": "python",
      "nbconvert_exporter": "python",
      "pygments_lexer": "ipython3",
      "version": "3.11.7"
    }
  },
  "nbformat": 4,
  "nbformat_minor": 0
}
