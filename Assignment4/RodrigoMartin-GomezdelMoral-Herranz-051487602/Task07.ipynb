{
  "cells": [
    {
      "cell_type": "markdown",
      "metadata": {
        "id": "nOOPLCHF7hLB"
      },
      "source": [
        "**Task 07: Querying RDF(s)**"
      ]
    },
    {
      "cell_type": "code",
      "execution_count": 1,
      "metadata": {
        "colab": {
          "base_uri": "https://localhost:8080/",
          "height": 211
        },
        "id": "Yl9npCt8n6m-",
        "outputId": "096014c0-f1ad-4bd6-bada-ab3561ff1367"
      },
      "outputs": [],
      "source": [
        "#!pip install rdflib\n",
        "github_storage = \"https://raw.githubusercontent.com/FacultadInformatica-LinkedData/Curso2024-2025/master/Assignment4/course_materials\""
      ]
    },
    {
      "cell_type": "markdown",
      "metadata": {
        "id": "XY7aPc86Bqoo"
      },
      "source": [
        "First let's read the RDF file"
      ]
    },
    {
      "cell_type": "code",
      "execution_count": null,
      "metadata": {
        "colab": {
          "base_uri": "https://localhost:8080/",
          "height": 35
        },
        "id": "9ERh415on7kF",
        "outputId": "395dc571-ef76-4330-cf4b-0b9db3aa5277"
      },
      "outputs": [],
      "source": [
        "from rdflib import Graph, Namespace, Literal\n",
        "from rdflib.namespace import RDF, RDFS\n",
        "from rdflib import FOAF\n",
        "g = Graph()\n",
        "g.namespace_manager.bind('ns', Namespace(\"http://somewhere#\"), override=False)\n",
        "g.namespace_manager.bind('vcard', Namespace(\"http://www.w3.org/2001/vcard-rdf/3.0#\"), override=False)\n",
        "g.parse(github_storage+\"/rdf/example6.rdf\", format=\"xml\")"
      ]
    },
    {
      "cell_type": "markdown",
      "metadata": {
        "id": "qp1oe2Eddsvo"
      },
      "source": [
        "**TASK 7.1: List all subclasses of \"LivingThing\" with RDFLib and SPARQL**"
      ]
    },
    {
      "cell_type": "code",
      "execution_count": null,
      "metadata": {
        "id": "tRcSWuMHOXBl"
      },
      "outputs": [],
      "source": [
        "# TO DO\n",
        "#RDFLib\n",
        "ns = Namespace(\"http://somewhere#\")\n",
        "for s,p,o in g.triples((None, RDFS.subClassOf, ns.LivingThing)):\n",
        "  print(s)\n",
        "\n",
        "# SPARQL\n",
        "from rdflib.plugins.sparql import prepareQuery\n",
        "q1 = prepareQuery('''\n",
        "  SELECT DISTINCT ?SubClass WHERE\n",
        "  {\n",
        "    ?SubClass rdfs:subClassOf ns:LivingThing .\n",
        "  }\n",
        "  ''',\n",
        "  initNs = { \"rdfs\": RDFS, \"ns\": \"http://somewhere#\" }\n",
        ")\n",
        "for r in g.query(q1):\n",
        "  print(r)"
      ]
    },
    {
      "cell_type": "markdown",
      "metadata": {
        "id": "gM3DASkTQQ5Y"
      },
      "source": [
        "**TASK 7.2: List all individuals of \"Person\" with RDFLib and SPARQL (remember the subClasses)**\n"
      ]
    },
    {
      "cell_type": "code",
      "execution_count": null,
      "metadata": {
        "id": "LiKSPHRzS-XJ"
      },
      "outputs": [],
      "source": [
        "# TO DO\n",
        "#RDFLib\n",
        "ns = Namespace(\"http://somewhere#\")\n",
        "for s,p,o in g.triples((None, RDF.type, ns.Person)):\n",
        "    print(s)\n",
        "\n",
        "for s,p,o in g.triples((None, RDFS.subClassOf, ns.Person)):\n",
        "    for s,p,o in g.triples((None, RDF.type, s)):\n",
        "        print(s)\n",
        "\n",
        "#SPARQL\n",
        "q2 = prepareQuery('''\n",
        "  SELECT DISTINCT ?individual WHERE\n",
        "  {\n",
        "    {\n",
        "      ?individual a ns:Person .\n",
        "    }\n",
        "    UNION\n",
        "    {\n",
        "      ?subClass rdfs:subClassOf ns:Person .\n",
        "      ?individual a ?subClass .\n",
        "    }\n",
        "  }\n",
        "  ''',\n",
        "  initNs = { \"rdfs\": RDFS, \"ns\": \"http://somewhere#\" }\n",
        ")\n",
        "for r in g.query(q2):\n",
        "  print(r)"
      ]
    },
    {
      "cell_type": "markdown",
      "metadata": {
        "id": "MXBqtBkJd22I"
      },
      "source": [
        "**TASK 7.3: List all individuals of just \"Person\" or \"Animal\". You do not need to list the individuals of the subclasses of person (in SPARQL only)**\n"
      ]
    },
    {
      "cell_type": "code",
      "execution_count": null,
      "metadata": {
        "id": "APQGv3NHX8Tf"
      },
      "outputs": [],
      "source": [
        "# TO DO\n",
        "q3 = prepareQuery('''\n",
        "  SELECT DISTINCT ?individual WHERE\n",
        "  {\n",
        "    {\n",
        "      ?individual a ns:Person .\n",
        "    }\n",
        "    UNION\n",
        "    {\n",
        "      ?individual a ns:Animal .\n",
        "    }\n",
        "  }\n",
        "  ''',\n",
        "  initNs = { \"rdfs\": RDFS, \"ns\": \"http://somewhere#\" }\n",
        ")\n",
        "# Visualize the results\n",
        "for r in g.query(q3):\n",
        "  print(r)"
      ]
    },
    {
      "cell_type": "markdown",
      "metadata": {
        "id": "3NyI7M2VNr9R"
      },
      "source": [
        "**TASK 7.4:  List the name of the persons who know Rocky (in SPARQL only)**"
      ]
    },
    {
      "cell_type": "code",
      "execution_count": null,
      "metadata": {
        "id": "I_CNoIKdNpbx"
      },
      "outputs": [],
      "source": [
        "# TO DO\n",
        "q4 = prepareQuery('''\n",
        "  SELECT DISTINCT ?person WHERE\n",
        "  {\n",
        "      ?person foaf:knows ns:RockySmith .\n",
        "      FILTER (?person != <http://somewhere#Bugs>) .\n",
        "  }\n",
        "  ''',\n",
        "  initNs = { \"rdfs\": RDFS, \"foaf\": FOAF, \"ns\": \"http://somewhere#\" }\n",
        ")\n",
        "# Visualize the results\n",
        "for r in g.query(q4):\n",
        "  print(r)"
      ]
    },
    {
      "cell_type": "markdown",
      "metadata": {
        "id": "kyjGsyxDPa2C"
      },
      "source": [
        "**Task 7.5: List the name of those animals who know at least another animal in the graph (in SPARQL only)**"
      ]
    },
    {
      "cell_type": "code",
      "execution_count": null,
      "metadata": {
        "id": "yoVwVZUAPaLm"
      },
      "outputs": [],
      "source": [
        "# TO DO\n",
        "q5 = prepareQuery('''\n",
        "  SELECT DISTINCT ?animal WHERE\n",
        "  {\n",
        "      ?animal rdf:type ns:Animal .\n",
        "      ?animal foaf:knows ?animal2 .\n",
        "      ?animal2 rdf:type ns:Animal . \n",
        "  }\n",
        "  ''',\n",
        "  initNs = { \"rdfs\": RDFS, \"foaf\": FOAF, \"ns\": \"http://somewhere#\" }\n",
        ")\n",
        "# Visualize the results\n",
        "for r in g.query(q5):\n",
        "  print(r)"
      ]
    },
    {
      "cell_type": "markdown",
      "metadata": {
        "id": "oU_Rd2ByXBaV"
      },
      "source": [
        "**Task 7.6: List the age of all living things in descending order (in SPARQL only)**"
      ]
    },
    {
      "cell_type": "code",
      "execution_count": null,
      "metadata": {
        "id": "KPL9SUPiXEJZ"
      },
      "outputs": [],
      "source": [
        "# TO DO\n",
        "q6 = prepareQuery('''\n",
        "  SELECT ?age WHERE\n",
        "  {\n",
        "    {\n",
        "      ?livingThing a ns:LivingThing .\n",
        "      ?livingThing foaf:age ?age .\n",
        "                  \n",
        "    }\n",
        "    UNION\n",
        "    {\n",
        "      ?subClass rdfs:subClassOf ns:LivingThing .\n",
        "      ?livingThing a ?subClass .\n",
        "      ?livingThing foaf:age ?age .\n",
        "    }               \n",
        "  }\n",
        "  ORDER BY DESC(?age)\n",
        "  ''',\n",
        "  initNs = { \"rdfs\": RDFS, \"foaf\": FOAF, \"ns\": \"http://somewhere#\" }\n",
        ")\n",
        "# Visualize the results\n",
        "for r in g.query(q6):\n",
        "  print(r)"
      ]
    }
  ],
  "metadata": {
    "colab": {
      "provenance": []
    },
    "kernelspec": {
      "display_name": "Python 3 (ipykernel)",
      "language": "python",
      "name": "python3"
    },
    "language_info": {
      "codemirror_mode": {
        "name": "ipython",
        "version": 3
      },
      "file_extension": ".py",
      "mimetype": "text/x-python",
      "name": "python",
      "nbconvert_exporter": "python",
      "pygments_lexer": "ipython3",
      "version": "3.11.9"
    }
  },
  "nbformat": 4,
  "nbformat_minor": 0
}
