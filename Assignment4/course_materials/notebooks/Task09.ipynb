{
 "cells": [
  {
   "cell_type": "markdown",
   "metadata": {
    "colab_type": "text",
    "id": "wIhJ69byU2Ad"
   },
   "source": [
    "**Task 09: Data linking**"
   ]
  },
  {
   "cell_type": "code",
   "execution_count": 1,
   "metadata": {
    "colab": {},
    "colab_type": "code",
    "id": "0sQG2Y915Isp"
   },
   "outputs": [
    {
     "name": "stdout",
     "output_type": "stream",
     "text": [
      "Requirement already satisfied: rdflib in c:\\users\\clash\\appdata\\local\\programs\\python\\python311\\lib\\site-packages (7.0.0)\n",
      "Requirement already satisfied: isodate<0.7.0,>=0.6.0 in c:\\users\\clash\\appdata\\local\\programs\\python\\python311\\lib\\site-packages (from rdflib) (0.6.1)\n",
      "Requirement already satisfied: pyparsing<4,>=2.1.0 in c:\\users\\clash\\appdata\\local\\programs\\python\\python311\\lib\\site-packages (from rdflib) (3.1.1)\n",
      "Requirement already satisfied: six in c:\\users\\clash\\appdata\\local\\programs\\python\\python311\\lib\\site-packages (from isodate<0.7.0,>=0.6.0->rdflib) (1.16.0)\n"
     ]
    },
    {
     "name": "stderr",
     "output_type": "stream",
     "text": [
      "\n",
      "[notice] A new release of pip is available: 24.0 -> 24.2\n",
      "[notice] To update, run: python.exe -m pip install --upgrade pip\n"
     ]
    }
   ],
   "source": [
    "!pip install rdflib\n",
    "github_storage = \"https://raw.githubusercontent.com/FacultadInformatica-LinkedData/Curso2024-2025/master/Assignment4/course_materials/\""
   ]
  },
  {
   "cell_type": "code",
   "execution_count": 2,
   "metadata": {
    "colab": {},
    "colab_type": "code",
    "id": "Jb4QeLue5NLr"
   },
   "outputs": [
    {
     "data": {
      "text/plain": [
       "<Graph identifier=N24c0219279814476be09fb5345ee7cfb (<class 'rdflib.graph.Graph'>)>"
      ]
     },
     "execution_count": 2,
     "metadata": {},
     "output_type": "execute_result"
    }
   ],
   "source": [
    "from rdflib import Graph, Namespace, Literal, URIRef\n",
    "g1 = Graph()\n",
    "g2 = Graph()\n",
    "g3 = Graph()\n",
    "g1.parse(github_storage+\"rdf/data03.rdf\", format=\"xml\")\n",
    "g2.parse(github_storage+\"rdf/data04.rdf\", format=\"xml\")"
   ]
  },
  {
   "cell_type": "markdown",
   "metadata": {
    "colab_type": "text",
    "id": "5wfBZiQSU827"
   },
   "source": [
    "Busca individuos en los dos grafos y enlázalos mediante la propiedad OWL:sameAs, inserta estas coincidencias en g3. Consideramos dos individuos iguales si tienen el mismo apodo y nombre de familia. Ten en cuenta que las URI no tienen por qué ser iguales para un mismo individuo en los dos grafos."
   ]
  },
  {
   "cell_type": "code",
   "execution_count": 4,
   "metadata": {},
   "outputs": [
    {
     "name": "stdout",
     "output_type": "stream",
     "text": [
      "http://data.three.org#HarryPotter http://www.w3.org/2002/07/owl#sameAs http://data.four.org#0004\n",
      "http://www.w3.org/2001/vcard-rdf/3.0/FN http://www.w3.org/2002/07/owl#sameAs http://data.four.org#0001\n",
      "http://data.three.org#HarryPotter http://www.w3.org/2002/07/owl#sameAs http://data.four.org#Person\n",
      "http://www.w3.org/2001/vcard-rdf/3.0/Given http://www.w3.org/2002/07/owl#sameAs http://data.four.org#Person\n",
      "http://www.w3.org/2001/vcard-rdf/3.0/Family http://www.w3.org/2002/07/owl#sameAs http://www.w3.org/2001/vcard-rdf/3.0/Given\n",
      "http://data.three.org#SaraJones http://www.w3.org/2002/07/owl#sameAs http://www.w3.org/2001/vcard-rdf/3.0/Family\n",
      "http://data.three.org#JohnSmith http://www.w3.org/2002/07/owl#sameAs http://www.w3.org/2001/vcard-rdf/3.0/FN\n",
      "http://data.three.org#JohnSmith http://www.w3.org/2002/07/owl#sameAs http://www.w3.org/2001/vcard-rdf/3.0/Family\n",
      "http://data.three.org#SaraJones http://www.w3.org/2002/07/owl#sameAs http://data.four.org#0002\n",
      "http://data.three.org#JohnSmith http://www.w3.org/2002/07/owl#sameAs http://data.four.org#0002\n",
      "http://data.three.org#Person http://www.w3.org/2002/07/owl#sameAs http://www.w3.org/2001/vcard-rdf/3.0/Given\n",
      "http://data.three.org#SaraJones http://www.w3.org/2002/07/owl#sameAs http://data.four.org#0003\n",
      "http://data.three.org#JohnSmith http://www.w3.org/2002/07/owl#sameAs http://data.four.org#0003\n",
      "http://data.three.org#HarryPotter http://www.w3.org/2002/07/owl#sameAs http://data.four.org#0001\n",
      "http://data.three.org#HarryPotter http://www.w3.org/2002/07/owl#sameAs http://data.four.org#0005\n",
      "http://www.w3.org/2001/vcard-rdf/3.0/FN http://www.w3.org/2002/07/owl#sameAs http://www.w3.org/2001/vcard-rdf/3.0/FN\n",
      "http://www.w3.org/2001/vcard-rdf/3.0/FN http://www.w3.org/2002/07/owl#sameAs http://www.w3.org/2001/vcard-rdf/3.0/Family\n",
      "http://www.w3.org/2001/vcard-rdf/3.0/Family http://www.w3.org/2002/07/owl#sameAs http://data.four.org#Person\n",
      "http://data.three.org#SaraJones http://www.w3.org/2002/07/owl#sameAs http://www.w3.org/2001/vcard-rdf/3.0/Given\n",
      "http://data.three.org#Person http://www.w3.org/2002/07/owl#sameAs http://data.four.org#0004\n",
      "http://data.three.org#JohnSmith http://www.w3.org/2002/07/owl#sameAs http://www.w3.org/2001/vcard-rdf/3.0/Given\n",
      "http://data.three.org#Person http://www.w3.org/2002/07/owl#sameAs http://data.four.org#Person\n",
      "http://data.three.org#HarryPotter http://www.w3.org/2002/07/owl#sameAs http://www.w3.org/2001/vcard-rdf/3.0/Family\n",
      "http://data.three.org#HarryPotter http://www.w3.org/2002/07/owl#sameAs http://data.four.org#0002\n",
      "http://www.w3.org/2001/vcard-rdf/3.0/Given http://www.w3.org/2002/07/owl#sameAs http://data.four.org#0002\n",
      "http://www.w3.org/2001/vcard-rdf/3.0/FN http://www.w3.org/2002/07/owl#sameAs http://www.w3.org/2001/vcard-rdf/3.0/Given\n",
      "http://data.three.org#HarryPotter http://www.w3.org/2002/07/owl#sameAs http://data.four.org#0003\n",
      "http://www.w3.org/2001/vcard-rdf/3.0/Given http://www.w3.org/2002/07/owl#sameAs http://data.four.org#0003\n",
      "http://data.three.org#Person http://www.w3.org/2002/07/owl#sameAs http://data.four.org#0005\n",
      "http://data.three.org#JohnDoe http://www.w3.org/2002/07/owl#sameAs http://data.four.org#0004\n",
      "http://data.three.org#HarryPotter http://www.w3.org/2002/07/owl#sameAs http://www.w3.org/2001/vcard-rdf/3.0/Given\n",
      "http://www.w3.org/2001/vcard-rdf/3.0/FN http://www.w3.org/2002/07/owl#sameAs http://data.four.org#0004\n",
      "http://data.three.org#JohnDoe http://www.w3.org/2002/07/owl#sameAs http://data.four.org#Person\n",
      "http://www.w3.org/2001/vcard-rdf/3.0/FN http://www.w3.org/2002/07/owl#sameAs http://data.four.org#Person\n",
      "http://www.w3.org/2001/vcard-rdf/3.0/Family http://www.w3.org/2002/07/owl#sameAs http://data.four.org#0002\n",
      "http://www.w3.org/2001/vcard-rdf/3.0/Family http://www.w3.org/2002/07/owl#sameAs http://data.four.org#0003\n",
      "http://www.w3.org/2001/vcard-rdf/3.0/Given http://www.w3.org/2002/07/owl#sameAs http://data.four.org#0004\n",
      "http://data.three.org#JohnDoe http://www.w3.org/2002/07/owl#sameAs http://data.four.org#0001\n",
      "http://data.three.org#Person http://www.w3.org/2002/07/owl#sameAs http://data.four.org#0002\n",
      "http://data.three.org#Person http://www.w3.org/2002/07/owl#sameAs http://data.four.org#0003\n",
      "http://data.three.org#SaraJones http://www.w3.org/2002/07/owl#sameAs http://www.w3.org/2001/vcard-rdf/3.0/FN\n",
      "http://data.three.org#JohnDoe http://www.w3.org/2002/07/owl#sameAs http://data.four.org#0005\n",
      "http://www.w3.org/2001/vcard-rdf/3.0/FN http://www.w3.org/2002/07/owl#sameAs http://data.four.org#0005\n",
      "http://www.w3.org/2001/vcard-rdf/3.0/Given http://www.w3.org/2002/07/owl#sameAs http://data.four.org#0001\n",
      "http://www.w3.org/2001/vcard-rdf/3.0/Given http://www.w3.org/2002/07/owl#sameAs http://data.four.org#0005\n",
      "http://data.three.org#Person http://www.w3.org/2002/07/owl#sameAs http://www.w3.org/2001/vcard-rdf/3.0/FN\n",
      "http://www.w3.org/2001/vcard-rdf/3.0/Family http://www.w3.org/2002/07/owl#sameAs http://data.four.org#0004\n",
      "http://data.three.org#JohnDoe http://www.w3.org/2002/07/owl#sameAs http://www.w3.org/2001/vcard-rdf/3.0/FN\n",
      "http://data.three.org#JohnDoe http://www.w3.org/2002/07/owl#sameAs http://www.w3.org/2001/vcard-rdf/3.0/Family\n",
      "http://data.three.org#JohnDoe http://www.w3.org/2002/07/owl#sameAs http://data.four.org#0002\n",
      "http://www.w3.org/2001/vcard-rdf/3.0/FN http://www.w3.org/2002/07/owl#sameAs http://data.four.org#0002\n",
      "http://data.three.org#JohnDoe http://www.w3.org/2002/07/owl#sameAs http://data.four.org#0003\n",
      "http://www.w3.org/2001/vcard-rdf/3.0/FN http://www.w3.org/2002/07/owl#sameAs http://data.four.org#0003\n",
      "http://www.w3.org/2001/vcard-rdf/3.0/Family http://www.w3.org/2002/07/owl#sameAs http://data.four.org#0001\n",
      "http://www.w3.org/2001/vcard-rdf/3.0/Given http://www.w3.org/2002/07/owl#sameAs http://www.w3.org/2001/vcard-rdf/3.0/FN\n",
      "http://www.w3.org/2001/vcard-rdf/3.0/Given http://www.w3.org/2002/07/owl#sameAs http://www.w3.org/2001/vcard-rdf/3.0/Family\n",
      "http://data.three.org#HarryPotter http://www.w3.org/2002/07/owl#sameAs http://www.w3.org/2001/vcard-rdf/3.0/FN\n",
      "http://www.w3.org/2001/vcard-rdf/3.0/Family http://www.w3.org/2002/07/owl#sameAs http://data.four.org#0005\n",
      "http://data.three.org#SaraJones http://www.w3.org/2002/07/owl#sameAs http://data.four.org#0004\n",
      "http://data.three.org#Person http://www.w3.org/2002/07/owl#sameAs http://data.four.org#0001\n",
      "http://data.three.org#JohnSmith http://www.w3.org/2002/07/owl#sameAs http://data.four.org#0004\n",
      "http://data.three.org#SaraJones http://www.w3.org/2002/07/owl#sameAs http://data.four.org#Person\n",
      "http://data.three.org#JohnSmith http://www.w3.org/2002/07/owl#sameAs http://data.four.org#Person\n",
      "http://data.three.org#JohnDoe http://www.w3.org/2002/07/owl#sameAs http://www.w3.org/2001/vcard-rdf/3.0/Given\n",
      "http://www.w3.org/2001/vcard-rdf/3.0/Given http://www.w3.org/2002/07/owl#sameAs http://www.w3.org/2001/vcard-rdf/3.0/Given\n",
      "http://www.w3.org/2001/vcard-rdf/3.0/Family http://www.w3.org/2002/07/owl#sameAs http://www.w3.org/2001/vcard-rdf/3.0/FN\n",
      "http://www.w3.org/2001/vcard-rdf/3.0/Family http://www.w3.org/2002/07/owl#sameAs http://www.w3.org/2001/vcard-rdf/3.0/Family\n",
      "http://data.three.org#SaraJones http://www.w3.org/2002/07/owl#sameAs http://data.four.org#0001\n",
      "http://data.three.org#JohnSmith http://www.w3.org/2002/07/owl#sameAs http://data.four.org#0001\n",
      "http://data.three.org#SaraJones http://www.w3.org/2002/07/owl#sameAs http://data.four.org#0005\n",
      "http://data.three.org#JohnSmith http://www.w3.org/2002/07/owl#sameAs http://data.four.org#0005\n",
      "http://data.three.org#Person http://www.w3.org/2002/07/owl#sameAs http://www.w3.org/2001/vcard-rdf/3.0/Family\n"
     ]
    }
   ],
   "source": [
    "from rdflib.namespace import OWL, RDF\n",
    "\n",
    "# Define the namespaces\n",
    "ns1 = Namespace(\"http://example.org/ns1#\")\n",
    "ns2 = Namespace(\"http://example.org/ns2#\")\n",
    "\n",
    "# Function to find individuals with the same nickname and family name\n",
    "def find_and_link_individuals(g1, g2, g3):\n",
    "    for s1, p1, o1 in g1.triples((None, RDF.type, None)):\n",
    "        nickname1 = g1.value(s1, ns1.nickname)\n",
    "        family_name1 = g1.value(s1, ns1.familyName)\n",
    "        \n",
    "        for s2, p2, o2 in g2.triples((None, RDF.type, None)):\n",
    "            nickname2 = g2.value(s2, ns2.nickname)\n",
    "            family_name2 = g2.value(s2, ns2.familyName)\n",
    "            \n",
    "            if nickname1 == nickname2 and family_name1 == family_name2:\n",
    "                g3.add((s1, OWL.sameAs, s2))\n",
    "\n",
    "# Call the function to link individuals\n",
    "find_and_link_individuals(g1, g2, g3)\n",
    "\n",
    "# Print the resulting graph\n",
    "for s, p, o in g3:\n",
    "    print(s, p, o)"
   ]
  },
  {
   "cell_type": "code",
   "execution_count": null,
   "metadata": {
    "colab": {},
    "colab_type": "code",
    "id": "yF5KHy7vU9ot"
   },
   "outputs": [],
   "source": [
    "\n"
   ]
  }
 ],
 "metadata": {
  "colab": {
   "collapsed_sections": [],
   "name": "Task09.ipynb",
   "provenance": []
  },
  "kernelspec": {
   "display_name": "Python 3 (ipykernel)",
   "language": "python",
   "name": "python3"
  },
  "language_info": {
   "codemirror_mode": {
    "name": "ipython",
    "version": 3
   },
   "file_extension": ".py",
   "mimetype": "text/x-python",
   "name": "python",
   "nbconvert_exporter": "python",
   "pygments_lexer": "ipython3",
   "version": "3.11.0"
  }
 },
 "nbformat": 4,
 "nbformat_minor": 1
}
