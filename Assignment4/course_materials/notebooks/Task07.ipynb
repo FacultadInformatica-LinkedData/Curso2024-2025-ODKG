{
  "cells": [
    {
      "cell_type": "markdown",
      "metadata": {
        "id": "nOOPLCHF7hLB"
      },
      "source": [
        "**Task 07: Querying RDF(s)**"
      ]
    },
    {
      "cell_type": "code",
      "execution_count": 9,
      "metadata": {
        "colab": {
          "base_uri": "https://localhost:8080/",
          "height": 211
        },
        "id": "Yl9npCt8n6m-",
        "outputId": "096014c0-f1ad-4bd6-bada-ab3561ff1367"
      },
      "outputs": [
        {
          "name": "stdout",
          "output_type": "stream",
          "text": [
            "Requirement already satisfied: rdflib in c:\\users\\richi\\appdata\\local\\packages\\pythonsoftwarefoundation.python.3.11_qbz5n2kfra8p0\\localcache\\local-packages\\python311\\site-packages (7.0.0)\n",
            "Requirement already satisfied: isodate<0.7.0,>=0.6.0 in c:\\users\\richi\\appdata\\local\\packages\\pythonsoftwarefoundation.python.3.11_qbz5n2kfra8p0\\localcache\\local-packages\\python311\\site-packages (from rdflib) (0.6.1)\n",
            "Requirement already satisfied: pyparsing<4,>=2.1.0 in c:\\users\\richi\\appdata\\local\\packages\\pythonsoftwarefoundation.python.3.11_qbz5n2kfra8p0\\localcache\\local-packages\\python311\\site-packages (from rdflib) (3.1.4)\n",
            "Requirement already satisfied: six in c:\\users\\richi\\appdata\\local\\packages\\pythonsoftwarefoundation.python.3.11_qbz5n2kfra8p0\\localcache\\local-packages\\python311\\site-packages (from isodate<0.7.0,>=0.6.0->rdflib) (1.16.0)\n"
          ]
        },
        {
          "name": "stderr",
          "output_type": "stream",
          "text": [
            "\n",
            "[notice] A new release of pip is available: 24.0 -> 24.2\n",
            "[notice] To update, run: C:\\Users\\richi\\AppData\\Local\\Microsoft\\WindowsApps\\PythonSoftwareFoundation.Python.3.11_qbz5n2kfra8p0\\python.exe -m pip install --upgrade pip\n"
          ]
        }
      ],
      "source": [
        "!pip install rdflib\n",
        "github_storage = \"https://raw.githubusercontent.com/FacultadInformatica-LinkedData/Curso2024-2025/master/Assignment4/course_materials\""
      ]
    },
    {
      "cell_type": "markdown",
      "metadata": {
        "id": "XY7aPc86Bqoo"
      },
      "source": [
        "First let's read the RDF file"
      ]
    },
    {
      "cell_type": "code",
      "execution_count": 10,
      "metadata": {
        "colab": {
          "base_uri": "https://localhost:8080/",
          "height": 35
        },
        "id": "9ERh415on7kF",
        "outputId": "395dc571-ef76-4330-cf4b-0b9db3aa5277"
      },
      "outputs": [
        {
          "data": {
            "text/plain": [
              "<Graph identifier=N73a1c551e55e4c49b44a4f2eef4eda16 (<class 'rdflib.graph.Graph'>)>"
            ]
          },
          "execution_count": 10,
          "metadata": {},
          "output_type": "execute_result"
        }
      ],
      "source": [
        "from rdflib import Graph, Namespace, Literal\n",
        "from rdflib.namespace import RDF, RDFS\n",
        "g = Graph()\n",
        "g.namespace_manager.bind('ns', Namespace(\"http://somewhere#\"), override=False)\n",
        "g.namespace_manager.bind('vcard', Namespace(\"http://www.w3.org/2001/vcard-rdf/3.0#\"), override=False)\n",
        "g.parse(github_storage+\"/rdf/example6.rdf\", format=\"xml\")"
      ]
    },
    {
      "cell_type": "markdown",
      "metadata": {
        "id": "qp1oe2Eddsvo"
      },
      "source": [
        "**TASK 7.1: List all subclasses of \"LivingThing\" with RDFLib and SPARQL**"
      ]
    },
    {
      "cell_type": "code",
      "execution_count": 24,
      "metadata": {
        "id": "tRcSWuMHOXBl"
      },
      "outputs": [
        {
          "name": "stdout",
          "output_type": "stream",
          "text": [
            "http://somewhere#Person\n",
            "http://somewhere#Animal\n"
          ]
        }
      ],
      "source": [
        "from rdflib.plugins.sparql import prepareQuery\n",
        "# TO DO\n",
        "# Visualize the results\n",
        "\n",
        "ns = Namespace(\"http://somewhere#\")\n",
        "\n",
        "q1 = prepareQuery('''\n",
        "  SELECT ?Subclass WHERE {\n",
        "    ?Subclass rdfs:subClassOf ns:LivingThing\n",
        "  }  \n",
        "  ''',\n",
        "  initNs = { \"rdfs\": RDFS, \"ns\": ns}\n",
        ")\n",
        "\n",
        "for r in g.query(q1):\n",
        "  print(r.Subclass)"
      ]
    },
    {
      "cell_type": "markdown",
      "metadata": {
        "id": "gM3DASkTQQ5Y"
      },
      "source": [
        "**TASK 7.2: List all individuals of \"Person\" with RDFLib and SPARQL (remember the subClasses)**"
      ]
    },
    {
      "cell_type": "code",
      "execution_count": 47,
      "metadata": {
        "id": "LiKSPHRzS-XJ"
      },
      "outputs": [
        {
          "name": "stdout",
          "output_type": "stream",
          "text": [
            "http://somewhere#SaraJones\n",
            "http://somewhere#JohnSmith\n"
          ]
        }
      ],
      "source": [
        "# TO DO\n",
        "# Visualize the results\n",
        "q2 = prepareQuery('''\n",
        "  SELECT ?Individuals WHERE {\n",
        "    ?Individuals rdf:type ns:Person.\n",
        "  }  \n",
        "  ''',\n",
        "  initNs = { \"rdf\": RDF, \"ns\": ns}\n",
        ")\n",
        "\n",
        "for r in g.query(q2):\n",
        "  print(r.Individuals)"
      ]
    },
    {
      "cell_type": "markdown",
      "metadata": {
        "id": "MXBqtBkJd22I"
      },
      "source": [
        "**TASK 7.3: List all individuals of just \"Person\" or \"Animal\". You do not need to list the individuals of the subclasses of person (in SPARQL only)**\n"
      ]
    },
    {
      "cell_type": "code",
      "execution_count": 32,
      "metadata": {
        "id": "APQGv3NHX8Tf"
      },
      "outputs": [
        {
          "name": "stdout",
          "output_type": "stream",
          "text": [
            "http://somewhere#RockySmith\n",
            "http://somewhere#Bugs\n",
            "http://somewhere#SaraJones\n",
            "http://somewhere#JohnSmith\n"
          ]
        }
      ],
      "source": [
        "# TO DO\n",
        "# Visualize the results\n",
        "\n",
        "q3 = prepareQuery('''\n",
        "    SELECT ?Individual WHERE {\n",
        "        ?Individual rdf:type ?Class .\n",
        "        VALUES ?Class { ns:Person ns:Animal }\n",
        "        FILTER NOT EXISTS {\n",
        "            ?Individual rdf:type ?Subclass .\n",
        "            ?Subclass rdfs:subClassOf ns:Person .\n",
        "        }\n",
        "    } \n",
        "  ''',\n",
        "  initNs = { \"rdf\": RDF, \"ns\": ns}\n",
        ")\n",
        "\n",
        "for r in g.query(q3):\n",
        "  print(r.Individual)"
      ]
    },
    {
      "cell_type": "markdown",
      "metadata": {
        "id": "3NyI7M2VNr9R"
      },
      "source": [
        "**TASK 7.4:  List the name of the persons who know Rocky (in SPARQL only)**"
      ]
    },
    {
      "cell_type": "code",
      "execution_count": 33,
      "metadata": {
        "id": "I_CNoIKdNpbx"
      },
      "outputs": [
        {
          "name": "stdout",
          "output_type": "stream",
          "text": [
            "http://somewhere#SaraJones\n"
          ]
        }
      ],
      "source": [
        "# TO DO\n",
        "# Visualize the results\n",
        "FOAF = Namespace(\"http://xmlns.com/foaf/0.1/\")\n",
        "\n",
        "q4 = prepareQuery('''\n",
        "    SELECT ?Individual WHERE {\n",
        "        ?Individual rdf:type ns:Person .\n",
        "        ?Individual foaf:knows ns:RockySmith .\n",
        "    } \n",
        "  ''',\n",
        "  initNs = { \"rdf\": RDF, \"ns\": ns, \"foaf\": FOAF}\n",
        ")\n",
        "\n",
        "for r in g.query(q4):\n",
        "  print(r.Individual)"
      ]
    },
    {
      "cell_type": "markdown",
      "metadata": {
        "id": "kyjGsyxDPa2C"
      },
      "source": [
        "**Task 7.5: List the name of those animals who know at least another animal in the graph (in SPARQL only)**"
      ]
    },
    {
      "cell_type": "code",
      "execution_count": 43,
      "metadata": {
        "id": "yoVwVZUAPaLm"
      },
      "outputs": [
        {
          "name": "stdout",
          "output_type": "stream",
          "text": [
            "Rocky\n",
            "Bugs\n"
          ]
        }
      ],
      "source": [
        "# TO DO\n",
        "# Visualize the results\n",
        "VCARD = Namespace(\"http://www.w3.org/2001/vcard-rdf/3.0/\")\n",
        "\n",
        "q5 = prepareQuery('''\n",
        "    SELECT ?animalName WHERE {\n",
        "        ?animal rdf:type ns:Animal .  \n",
        "        ?animal foaf:knows ?otherAnimal .\n",
        "        ?otherAnimal rdf:type ns:Animal .\n",
        "        ?animal vcard:Given ?animalName .  \n",
        "    }\n",
        "  ''',\n",
        "  initNs = { \"rdf\": RDF, \"ns\": ns, \"foaf\": FOAF, \"vcard\": VCARD}\n",
        ")\n",
        "\n",
        "for r in g.query(q5):\n",
        "  print(r.animalName)"
      ]
    },
    {
      "cell_type": "markdown",
      "metadata": {
        "id": "oU_Rd2ByXBaV"
      },
      "source": [
        "**Task 7.6: List the age of all living things in descending order (in SPARQL only)**"
      ]
    },
    {
      "cell_type": "code",
      "execution_count": 46,
      "metadata": {
        "id": "KPL9SUPiXEJZ"
      },
      "outputs": [
        {
          "name": "stdout",
          "output_type": "stream",
          "text": [
            "http://somewhere#SaraJones 22\n",
            "http://somewhere#JohnSmith 20\n",
            "http://somewhere#RockySmith 10\n",
            "http://somewhere#Bugs 2\n"
          ]
        }
      ],
      "source": [
        "# TO DO\n",
        "# Visualize the results\n",
        "VCARD = Namespace(\"http://www.w3.org/2001/vcard-rdf/3.0/\")\n",
        "\n",
        "q6 = prepareQuery('''\n",
        "    SELECT ?livingThing ?age WHERE {\n",
        "        ?type rdfs:subClassOf ns:LivingThing .\n",
        "        ?livingThing rdf:type ?type .\n",
        "        ?livingThing foaf:age ?age .\n",
        "    }\n",
        "    ORDER BY DESC(?age)\n",
        "  ''',\n",
        "  initNs = { \"rdf\": RDF, \"ns\": ns, \"foaf\": FOAF, \"rdfs\": RDFS}\n",
        ")\n",
        "\n",
        "for r in g.query(q6):\n",
        "  print(r.livingThing, r.age)"
      ]
    }
  ],
  "metadata": {
    "colab": {
      "provenance": []
    },
    "kernelspec": {
      "display_name": "Python 3 (ipykernel)",
      "language": "python",
      "name": "python3"
    },
    "language_info": {
      "codemirror_mode": {
        "name": "ipython",
        "version": 3
      },
      "file_extension": ".py",
      "mimetype": "text/x-python",
      "name": "python",
      "nbconvert_exporter": "python",
      "pygments_lexer": "ipython3",
      "version": "3.11.9"
    }
  },
  "nbformat": 4,
  "nbformat_minor": 0
}
