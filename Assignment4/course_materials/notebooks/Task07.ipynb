{
  "cells": [
    {
      "cell_type": "markdown",
      "metadata": {
        "id": "nOOPLCHF7hLB"
      },
      "source": [
        "**Task 07: Querying RDF(s)**"
      ]
    },
    {
      "cell_type": "code",
      "execution_count": 43,
      "metadata": {
        "colab": {
          "base_uri": "https://localhost:8080/",
          "height": 211
        },
        "id": "Yl9npCt8n6m-",
        "outputId": "096014c0-f1ad-4bd6-bada-ab3561ff1367"
      },
      "outputs": [
        {
          "name": "stdout",
          "output_type": "stream",
          "text": [
            "Requirement already satisfied: rdflib in c:\\users\\clash\\appdata\\local\\programs\\python\\python311\\lib\\site-packages (7.0.0)\n",
            "Requirement already satisfied: isodate<0.7.0,>=0.6.0 in c:\\users\\clash\\appdata\\local\\programs\\python\\python311\\lib\\site-packages (from rdflib) (0.6.1)\n",
            "Requirement already satisfied: pyparsing<4,>=2.1.0 in c:\\users\\clash\\appdata\\local\\programs\\python\\python311\\lib\\site-packages (from rdflib) (3.1.1)\n",
            "Requirement already satisfied: six in c:\\users\\clash\\appdata\\local\\programs\\python\\python311\\lib\\site-packages (from isodate<0.7.0,>=0.6.0->rdflib) (1.16.0)\n"
          ]
        },
        {
          "name": "stderr",
          "output_type": "stream",
          "text": [
            "\n",
            "[notice] A new release of pip is available: 24.0 -> 24.2\n",
            "[notice] To update, run: python.exe -m pip install --upgrade pip\n"
          ]
        }
      ],
      "source": [
        "!pip install rdflib\n",
        "github_storage = \"https://raw.githubusercontent.com/FacultadInformatica-LinkedData/Curso2024-2025/master/Assignment4/course_materials\""
      ]
    },
    {
      "cell_type": "markdown",
      "metadata": {
        "id": "XY7aPc86Bqoo"
      },
      "source": [
        "First let's read the RDF file"
      ]
    },
    {
      "cell_type": "code",
      "execution_count": 44,
      "metadata": {
        "colab": {
          "base_uri": "https://localhost:8080/",
          "height": 35
        },
        "id": "9ERh415on7kF",
        "outputId": "395dc571-ef76-4330-cf4b-0b9db3aa5277"
      },
      "outputs": [
        {
          "data": {
            "text/plain": [
              "<Graph identifier=Ne1063190ea2640c4bf1a7904425ce3b9 (<class 'rdflib.graph.Graph'>)>"
            ]
          },
          "execution_count": 44,
          "metadata": {},
          "output_type": "execute_result"
        }
      ],
      "source": [
        "from rdflib import Graph, Namespace, Literal\n",
        "from rdflib.namespace import RDF, RDFS\n",
        "g = Graph()\n",
        "g.namespace_manager.bind('ns', Namespace(\"http://somewhere#\"), override=False)\n",
        "g.namespace_manager.bind('vcard', Namespace(\"http://www.w3.org/2001/vcard-rdf/3.0#\"), override=False)\n",
        "g.parse(github_storage+\"/rdf/example6.rdf\", format=\"xml\")"
      ]
    },
    {
      "cell_type": "markdown",
      "metadata": {
        "id": "qp1oe2Eddsvo"
      },
      "source": [
        "**TASK 7.1: List all subclasses of \"LivingThing\" with RDFLib and SPARQL**"
      ]
    },
    {
      "cell_type": "code",
      "execution_count": 45,
      "metadata": {},
      "outputs": [
        {
          "name": "stdout",
          "output_type": "stream",
          "text": [
            "(rdflib.term.URIRef('http://somewhere#Person'),)\n",
            "(rdflib.term.URIRef('http://somewhere#Animal'),)\n"
          ]
        }
      ],
      "source": [
        "# Define the query to list all subclasses of \"LivingThing\"\n",
        "q1 = \"\"\"\n",
        "PREFIX rdf: <http://www.w3.org/1999/02/22-rdf-syntax-ns#>\n",
        "PREFIX rdfs: <http://www.w3.org/2000/01/rdf-schema#>\n",
        "PREFIX ns: <http://somewhere#>\n",
        "\n",
        "SELECT ?subclass WHERE {\n",
        "    ?subclass rdfs:subClassOf ns:LivingThing .\n",
        "}\n",
        "\"\"\"\n",
        "\n",
        "# Execute the query\n",
        "subclasses = g.query(q1)\n",
        "\n",
        "# Visualize the results\n",
        "for subclass in subclasses:\n",
        "        print(subclass)"
      ]
    },
    {
      "cell_type": "markdown",
      "metadata": {
        "id": "gM3DASkTQQ5Y"
      },
      "source": [
        "**TASK 7.2: List all individuals of \"Person\" with RDFLib and SPARQL (remember the subClasses)**\n"
      ]
    },
    {
      "cell_type": "code",
      "execution_count": 46,
      "metadata": {},
      "outputs": [
        {
          "name": "stdout",
          "output_type": "stream",
          "text": [
            "(rdflib.term.URIRef('http://somewhere#SaraJones'),)\n",
            "(rdflib.term.URIRef('http://somewhere#JohnSmith'),)\n",
            "(rdflib.term.URIRef('http://somewhere#JaneSmith'),)\n",
            "(rdflib.term.URIRef('http://somewhere#JimGonzalez'),)\n"
          ]
        }
      ],
      "source": [
        "# Define the query to list all individuals of \"Person\" and its subclasses\n",
        "q2 = \"\"\"\n",
        "PREFIX rdf: <http://www.w3.org/1999/02/22-rdf-syntax-ns#>\n",
        "PREFIX rdfs: <http://www.w3.org/2000/01/rdf-schema#>\n",
        "PREFIX ns: <http://somewhere#>\n",
        "\n",
        "SELECT ?individual WHERE {\n",
        "    ?individual rdf:type/rdfs:subClassOf* ns:Person .\n",
        "}\n",
        "\"\"\"\n",
        "\n",
        "# Execute the query\n",
        "individuals = g.query(q2)\n",
        "\n",
        "# Visualize the results\n",
        "for individual in individuals:\n",
        "    print(individual)"
      ]
    },
    {
      "cell_type": "markdown",
      "metadata": {
        "id": "MXBqtBkJd22I"
      },
      "source": [
        "**TASK 7.3: List all individuals of just \"Person\" or \"Animal\". You do not need to list the individuals of the subclasses of person (in SPARQL only)**\n"
      ]
    },
    {
      "cell_type": "code",
      "execution_count": 47,
      "metadata": {},
      "outputs": [
        {
          "name": "stdout",
          "output_type": "stream",
          "text": [
            "(rdflib.term.URIRef('http://somewhere#SaraJones'),)\n",
            "(rdflib.term.URIRef('http://somewhere#JohnSmith'),)\n",
            "(rdflib.term.URIRef('http://somewhere#RockySmith'),)\n",
            "(rdflib.term.URIRef('http://somewhere#Bugs'),)\n"
          ]
        }
      ],
      "source": [
        "# Define the query to list all individuals of just \"Person\" or \"Animal\"\n",
        "q3 = \"\"\"\n",
        "PREFIX rdf: <http://www.w3.org/1999/02/22-rdf-syntax-ns#>\n",
        "PREFIX rdfs: <http://www.w3.org/2000/01/rdf-schema#>\n",
        "PREFIX ns: <http://somewhere#>\n",
        "\n",
        "SELECT ?individual WHERE {\n",
        "    {\n",
        "        ?individual rdf:type ns:Person .\n",
        "    }\n",
        "    UNION\n",
        "    {\n",
        "        ?individual rdf:type ns:Animal .\n",
        "    }\n",
        "}\n",
        "\"\"\"\n",
        "\n",
        "# Execute the query\n",
        "individuals_person_or_animal = g.query(q3)\n",
        "\n",
        "# Visualize the results\n",
        "for individual in individuals_person_or_animal:\n",
        "    print(individual)"
      ]
    },
    {
      "cell_type": "markdown",
      "metadata": {
        "id": "3NyI7M2VNr9R"
      },
      "source": [
        "**TASK 7.4:  List the name of the persons who know Rocky (in SPARQL only)**"
      ]
    },
    {
      "cell_type": "code",
      "execution_count": 48,
      "metadata": {},
      "outputs": [
        {
          "name": "stdout",
          "output_type": "stream",
          "text": [
            "(rdflib.term.URIRef('http://somewhere#SaraJones'),)\n"
          ]
        }
      ],
      "source": [
        "# Define the query to list the name of the persons who know Rocky\n",
        "q4 = \"\"\"\n",
        "PREFIX rdf: <http://www.w3.org/1999/02/22-rdf-syntax-ns#>\n",
        "PREFIX rdfs: <http://www.w3.org/2000/01/rdf-schema#>\n",
        "PREFIX ns: <http://somewhere#>\n",
        "PREFIX vcard: <http://www.w3.org/2001/vcard-rdf/3.0#>\n",
        "PREFIX foaf: <http://xmlns.com/foaf/0.1/>\n",
        "\n",
        "SELECT ?person WHERE {\n",
        "    ?person rdf:type ns:Person .\n",
        "    ?person foaf:knows ns:RockySmith .\n",
        "}\n",
        "\"\"\"\n",
        "\n",
        "# Execute the query\n",
        "persons_who_know_rocky = g.query(q4)\n",
        "\n",
        "# Visualize the results\n",
        "for person in persons_who_know_rocky:\n",
        "    print(person)"
      ]
    },
    {
      "cell_type": "markdown",
      "metadata": {
        "id": "kyjGsyxDPa2C"
      },
      "source": [
        "**Task 7.5: List the name of those animals who know at least another animal in the graph (in SPARQL only)**"
      ]
    },
    {
      "cell_type": "code",
      "execution_count": 49,
      "metadata": {},
      "outputs": [
        {
          "name": "stdout",
          "output_type": "stream",
          "text": [
            "(rdflib.term.URIRef('http://somewhere#RockySmith'),)\n",
            "(rdflib.term.URIRef('http://somewhere#Bugs'),)\n"
          ]
        }
      ],
      "source": [
        "# Define the query to list the name of those animals who know at least another animal in the graph\n",
        "q5 = \"\"\"\n",
        "PREFIX rdf: <http://www.w3.org/1999/02/22-rdf-syntax-ns#>\n",
        "PREFIX rdfs: <http://www.w3.org/2000/01/rdf-schema#>\n",
        "PREFIX ns: <http://somewhere#>\n",
        "PREFIX vcard: <http://www.w3.org/2001/vcard-rdf/3.0#>\n",
        "PREFIX foaf: <http://xmlns.com/foaf/0.1/>\n",
        "\n",
        "SELECT ?animal WHERE {\n",
        "    ?animal rdf:type ns:Animal .\n",
        "    ?animal foaf:knows ?otherAnimal .\n",
        "    ?otherAnimal rdf:type ns:Animal .\n",
        "}\n",
        "\"\"\"\n",
        "\n",
        "# Execute the query\n",
        "animals_who_know_other_animals = g.query(q5)\n",
        "\n",
        "# Visualize the results\n",
        "for animal in animals_who_know_other_animals:\n",
        "    print(animal)"
      ]
    },
    {
      "cell_type": "markdown",
      "metadata": {
        "id": "oU_Rd2ByXBaV"
      },
      "source": [
        "**Task 7.6: List the age of all living things in descending order (in SPARQL only)**"
      ]
    },
    {
      "cell_type": "code",
      "execution_count": 52,
      "metadata": {},
      "outputs": [
        {
          "name": "stdout",
          "output_type": "stream",
          "text": [
            "(rdflib.term.URIRef('http://somewhere#JimGonzalez'), rdflib.term.Literal('40', datatype=rdflib.term.URIRef('http://www.w3.org/2001/XMLSchema#integer')))\n",
            "(rdflib.term.URIRef('http://somewhere#JaneSmith'), rdflib.term.Literal('30', datatype=rdflib.term.URIRef('http://www.w3.org/2001/XMLSchema#integer')))\n",
            "(rdflib.term.URIRef('http://somewhere#SaraJones'), rdflib.term.Literal('22', datatype=rdflib.term.URIRef('http://www.w3.org/2001/XMLSchema#integer')))\n",
            "(rdflib.term.URIRef('http://somewhere#JohnSmith'), rdflib.term.Literal('20', datatype=rdflib.term.URIRef('http://www.w3.org/2001/XMLSchema#integer')))\n",
            "(rdflib.term.URIRef('http://somewhere#RockySmith'), rdflib.term.Literal('10', datatype=rdflib.term.URIRef('http://www.w3.org/2001/XMLSchema#integer')))\n",
            "(rdflib.term.URIRef('http://somewhere#Bugs'), rdflib.term.Literal('2', datatype=rdflib.term.URIRef('http://www.w3.org/2001/XMLSchema#integer')))\n"
          ]
        }
      ],
      "source": [
        "# Define the query to list the age of all living things in descending order\n",
        "q6 = \"\"\"\n",
        "PREFIX rdf: <http://www.w3.org/1999/02/22-rdf-syntax-ns#>\n",
        "PREFIX rdfs: <http://www.w3.org/2000/01/rdf-schema#>\n",
        "PREFIX ns: <http://somewhere#>\n",
        "Prefix foaf: <http://xmlns.com/foaf/0.1/>\n",
        "\n",
        "SELECT ?individual ?age WHERE {\n",
        "    ?individual rdf:type/rdfs:subClassOf* ns:LivingThing . \n",
        "    ?individual foaf:age ?age .\n",
        "}\n",
        "ORDER BY DESC(?age)\n",
        "\"\"\"\n",
        "\n",
        "# Execute the query\n",
        "ages_of_living_things = g.query(q6)\n",
        "\n",
        "# Visualize the results\n",
        "for living_thing in ages_of_living_things:\n",
        "    print(living_thing)"
      ]
    }
  ],
  "metadata": {
    "colab": {
      "provenance": []
    },
    "kernelspec": {
      "display_name": "Python 3 (ipykernel)",
      "language": "python",
      "name": "python3"
    },
    "language_info": {
      "codemirror_mode": {
        "name": "ipython",
        "version": 3
      },
      "file_extension": ".py",
      "mimetype": "text/x-python",
      "name": "python",
      "nbconvert_exporter": "python",
      "pygments_lexer": "ipython3",
      "version": "3.11.0"
    }
  },
  "nbformat": 4,
  "nbformat_minor": 0
}
