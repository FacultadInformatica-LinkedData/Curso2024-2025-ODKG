{
  "cells": [
    {
      "cell_type": "markdown",
      "metadata": {
        "id": "nOOPLCHF7hLB"
      },
      "source": [
        "**Task 07: Querying RDF(s)**"
      ]
    },
    {
      "cell_type": "code",
      "execution_count": 1,
      "metadata": {
        "colab": {
          "base_uri": "https://localhost:8080/"
        },
        "id": "Yl9npCt8n6m-",
        "outputId": "9d0c394c-0960-42f0-fa53-7d6549c5a1da"
      },
      "outputs": [
        {
          "output_type": "stream",
          "name": "stdout",
          "text": [
            "Collecting rdflib\n",
            "  Downloading rdflib-7.0.0-py3-none-any.whl.metadata (11 kB)\n",
            "Collecting isodate<0.7.0,>=0.6.0 (from rdflib)\n",
            "  Downloading isodate-0.6.1-py2.py3-none-any.whl.metadata (9.6 kB)\n",
            "Requirement already satisfied: pyparsing<4,>=2.1.0 in /usr/local/lib/python3.10/dist-packages (from rdflib) (3.1.4)\n",
            "Requirement already satisfied: six in /usr/local/lib/python3.10/dist-packages (from isodate<0.7.0,>=0.6.0->rdflib) (1.16.0)\n",
            "Downloading rdflib-7.0.0-py3-none-any.whl (531 kB)\n",
            "\u001b[2K   \u001b[90m━━━━━━━━━━━━━━━━━━━━━━━━━━━━━━━━━━━━━━━━\u001b[0m \u001b[32m531.9/531.9 kB\u001b[0m \u001b[31m6.8 MB/s\u001b[0m eta \u001b[36m0:00:00\u001b[0m\n",
            "\u001b[?25hDownloading isodate-0.6.1-py2.py3-none-any.whl (41 kB)\n",
            "\u001b[2K   \u001b[90m━━━━━━━━━━━━━━━━━━━━━━━━━━━━━━━━━━━━━━━━\u001b[0m \u001b[32m41.7/41.7 kB\u001b[0m \u001b[31m2.5 MB/s\u001b[0m eta \u001b[36m0:00:00\u001b[0m\n",
            "\u001b[?25hInstalling collected packages: isodate, rdflib\n",
            "Successfully installed isodate-0.6.1 rdflib-7.0.0\n"
          ]
        }
      ],
      "source": [
        "!pip install rdflib\n",
        "github_storage = \"https://raw.githubusercontent.com/FacultadInformatica-LinkedData/Curso2024-2025/master/Assignment4/course_materials\""
      ]
    },
    {
      "cell_type": "markdown",
      "metadata": {
        "id": "XY7aPc86Bqoo"
      },
      "source": [
        "First let's read the RDF file"
      ]
    },
    {
      "cell_type": "code",
      "execution_count": 10,
      "metadata": {
        "colab": {
          "base_uri": "https://localhost:8080/"
        },
        "id": "9ERh415on7kF",
        "outputId": "324f5dfb-ce66-41bd-ea72-4b2dc79f5a68"
      },
      "outputs": [
        {
          "output_type": "stream",
          "name": "stdout",
          "text": [
            "http://somewhere#JimGonzalez http://www.w3.org/2001/vcard-rdf/3.0/Given Jim\n",
            "http://somewhere#http://www.w3.org/2001/vcard-rdf/3.0/Family http://www.w3.org/2000/01/rdf-schema#range http://www.w3.org/2001/XMLSchema#string\n",
            "http://somewhere#RockySmith http://www.w3.org/2001/vcard-rdf/3.0/Family Smith\n",
            "http://somewhere#RockySmith http://www.w3.org/2001/vcard-rdf/3.0/FN Rocky Smith\n",
            "http://somewhere#JaneSmith http://xmlns.com/foaf/0.1/knows http://somewhere#RockySmith\n",
            "http://somewhere#JaneSmith http://xmlns.com/foaf/0.1/age 30\n",
            "http://somewhere#Professor http://www.w3.org/1999/02/22-rdf-syntax-ns#type http://www.w3.org/2000/01/rdf-schema#Class\n",
            "http://somewhere#PhDstudent http://www.w3.org/2000/01/rdf-schema#subClassOf http://somewhere#Researcher\n",
            "http://somewhere#JimGonzalez http://www.w3.org/2001/vcard-rdf/3.0/FN Jim Gonzalez\n",
            "http://somewhere#Animal http://www.w3.org/1999/02/22-rdf-syntax-ns#type http://www.w3.org/2000/01/rdf-schema#Class\n",
            "http://somewhere#LivingThing http://www.w3.org/1999/02/22-rdf-syntax-ns#type http://www.w3.org/2000/01/rdf-schema#Class\n",
            "http://somewhere#JimGonzalez http://www.w3.org/2001/vcard-rdf/3.0/Family Gonzalez\n",
            "http://somewhere#http://www.w3.org/2001/vcard-rdf/3.0/FN http://www.w3.org/1999/02/22-rdf-syntax-ns#type http://www.w3.org/2000/01/rdf-schema#Datatype\n",
            "http://somewhere#SaraJones http://www.w3.org/2001/vcard-rdf/3.0/FN Sara Jones\n",
            "http://somewhere#SaraJones http://www.w3.org/1999/02/22-rdf-syntax-ns#type http://somewhere#Person\n",
            "http://somewhere#SaraJones http://xmlns.com/foaf/0.1/knows http://somewhere#JaneSmith\n",
            "http://somewhere#Bugs http://www.w3.org/2001/vcard-rdf/3.0/Given Bugs\n",
            "http://somewhere#JohnSmith http://www.w3.org/1999/02/22-rdf-syntax-ns#type http://somewhere#Person\n",
            "http://somewhere#Bugs http://xmlns.com/foaf/0.1/knows http://somewhere#JaneSmith\n",
            "http://somewhere#Bugs http://xmlns.com/foaf/0.1/age 2\n",
            "http://somewhere#RockySmith http://www.w3.org/1999/02/22-rdf-syntax-ns#type http://somewhere#Animal\n",
            "http://somewhere#Bugs http://www.w3.org/1999/02/22-rdf-syntax-ns#type http://somewhere#Animal\n",
            "http://somewhere#JaneSmith http://www.w3.org/1999/02/22-rdf-syntax-ns#type http://somewhere#Researcher\n",
            "http://somewhere#http://www.w3.org/2001/vcard-rdf/3.0/FN http://www.w3.org/2000/01/rdf-schema#range http://www.w3.org/2001/XMLSchema#string\n",
            "http://somewhere#JaneSmith http://www.w3.org/2001/vcard-rdf/3.0/Family Smith\n",
            "http://somewhere#JimGonzalez http://xmlns.com/foaf/0.1/age 40\n",
            "http://somewhere#RockySmith http://xmlns.com/foaf/0.1/knows http://somewhere#Bugs\n",
            "http://somewhere#RockySmith http://xmlns.com/foaf/0.1/knows http://somewhere#JaneSmith\n",
            "http://somewhere#RockySmith http://xmlns.com/foaf/0.1/age 10\n",
            "http://somewhere#Animal http://www.w3.org/2000/01/rdf-schema#subClassOf http://somewhere#LivingThing\n",
            "http://somewhere#JimGonzalez http://www.w3.org/1999/02/22-rdf-syntax-ns#type http://somewhere#Professor\n",
            "http://somewhere#http://www.w3.org/2001/vcard-rdf/3.0/Given http://www.w3.org/1999/02/22-rdf-syntax-ns#type http://www.w3.org/2000/01/rdf-schema#Datatype\n",
            "http://somewhere#RockySmith http://www.w3.org/2001/vcard-rdf/3.0/Given Rocky\n",
            "http://somewhere#Bugs http://xmlns.com/foaf/0.1/knows http://somewhere#SaraJones\n",
            "http://somewhere#SaraJones http://xmlns.com/foaf/0.1/age 22\n",
            "http://somewhere#Person http://www.w3.org/2000/01/rdf-schema#subClassOf http://somewhere#LivingThing\n",
            "http://somewhere#SaraJones http://www.w3.org/2001/vcard-rdf/3.0/Family Jones\n",
            "http://somewhere#Person http://www.w3.org/1999/02/22-rdf-syntax-ns#type http://www.w3.org/2000/01/rdf-schema#Class\n",
            "http://somewhere#Researcher http://www.w3.org/2000/01/rdf-schema#subClassOf http://somewhere#Person\n",
            "http://somewhere#UPM http://www.w3.org/1999/02/22-rdf-syntax-ns#type http://somewhere#University\n",
            "http://somewhere#SaraJones http://xmlns.com/foaf/0.1/knows http://somewhere#RockySmith\n",
            "http://somewhere#RockySmith http://xmlns.com/foaf/0.1/knows http://somewhere#SaraJones\n",
            "http://somewhere#PhDstudent http://www.w3.org/1999/02/22-rdf-syntax-ns#type http://www.w3.org/2000/01/rdf-schema#Class\n",
            "http://somewhere#Bugs http://xmlns.com/foaf/0.1/knows http://somewhere#RockySmith\n",
            "http://somewhere#JohnSmith http://www.w3.org/2001/vcard-rdf/3.0/Given John\n",
            "http://somewhere#JohnSmith http://www.w3.org/2001/vcard-rdf/3.0/FN John Smith\n",
            "http://somewhere#JohnSmith http://xmlns.com/foaf/0.1/age 20\n",
            "http://somewhere#Professor http://www.w3.org/2000/01/rdf-schema#subClassOf http://somewhere#Person\n",
            "http://somewhere#SaraJones http://www.w3.org/2001/vcard-rdf/3.0/Given Sara\n",
            "http://somewhere#http://www.w3.org/2001/vcard-rdf/3.0/Given http://www.w3.org/2000/01/rdf-schema#range http://www.w3.org/2001/XMLSchema#string\n",
            "http://somewhere#http://www.w3.org/2001/vcard-rdf/3.0/Family http://www.w3.org/1999/02/22-rdf-syntax-ns#type http://www.w3.org/2000/01/rdf-schema#Property\n",
            "http://somewhere#University http://www.w3.org/1999/02/22-rdf-syntax-ns#type http://www.w3.org/2000/01/rdf-schema#Class\n",
            "http://somewhere#JaneSmith http://www.w3.org/2001/vcard-rdf/3.0/FN Jane Smith\n",
            "http://somewhere#Researcher http://www.w3.org/1999/02/22-rdf-syntax-ns#type http://www.w3.org/2000/01/rdf-schema#Class\n",
            "http://somewhere#JaneSmith http://www.w3.org/2001/vcard-rdf/3.0/Given Jane\n",
            "http://somewhere#JohnSmith http://www.w3.org/2001/vcard-rdf/3.0/Family Smith\n",
            "http://somewhere#JaneSmith http://xmlns.com/foaf/0.1/knows http://somewhere#SaraJones\n"
          ]
        }
      ],
      "source": [
        "from rdflib import Graph, Namespace, Literal\n",
        "from rdflib.namespace import RDF, RDFS\n",
        "g = Graph()\n",
        "g.namespace_manager.bind('ns', Namespace(\"http://somewhere#\"), override=False)\n",
        "g.namespace_manager.bind('vcard', Namespace(\"http://www.w3.org/2001/vcard-rdf/3.0#\"), override=False)\n",
        "g.parse(github_storage+\"/rdf/example6.rdf\", format=\"xml\")\n",
        "for s, o, p in g:\n",
        "  print(s,o, p)"
      ]
    },
    {
      "cell_type": "markdown",
      "metadata": {
        "id": "qp1oe2Eddsvo"
      },
      "source": [
        "**TASK 7.1: List all subclasses of \"LivingThing\" with RDFLib and SPARQL**"
      ]
    },
    {
      "cell_type": "code",
      "execution_count": 18,
      "metadata": {
        "id": "tRcSWuMHOXBl",
        "colab": {
          "base_uri": "https://localhost:8080/"
        },
        "outputId": "01d244d4-4ce5-4da8-bfba-7d8e739b30d5"
      },
      "outputs": [
        {
          "output_type": "stream",
          "name": "stdout",
          "text": [
            "(rdflib.term.URIRef('http://somewhere#Person'),)\n",
            "(rdflib.term.URIRef('http://somewhere#Animal'),)\n"
          ]
        }
      ],
      "source": [
        "# TO DO\n",
        "q1 = \"\"\"\n",
        "PREFIX rdfs: <http://www.w3.org/2000/01/rdf-schema#>\n",
        "PREFIX ns: <http://somewhere#>\n",
        "SELECT ?subclass WHERE {\n",
        "    ?subclass rdfs:subClassOf ns:LivingThing.\n",
        "}\n",
        "\"\"\"\n",
        "\n",
        "# Visualize the results\n",
        "for r in g.query(q1):\n",
        "  print(r)"
      ]
    },
    {
      "cell_type": "markdown",
      "metadata": {
        "id": "gM3DASkTQQ5Y"
      },
      "source": [
        "**TASK 7.2: List all individuals of \"Person\" with RDFLib and SPARQL (remember the subClasses)**\n"
      ]
    },
    {
      "cell_type": "code",
      "execution_count": 22,
      "metadata": {
        "id": "LiKSPHRzS-XJ",
        "colab": {
          "base_uri": "https://localhost:8080/"
        },
        "outputId": "000f192b-4d68-4b06-afa9-4ef550a836eb"
      },
      "outputs": [
        {
          "output_type": "stream",
          "name": "stdout",
          "text": [
            "(rdflib.term.URIRef('http://somewhere#Researcher'),)\n",
            "(rdflib.term.URIRef('http://somewhere#Professor'),)\n"
          ]
        }
      ],
      "source": [
        "# TO DO\n",
        "q2 = \"\"\"\n",
        "PREFIX rdfs: <http://www.w3.org/2000/01/rdf-schema#>\n",
        "PREFIX ns: <http://somewhere#>\n",
        "SELECT ?individual WHERE {\n",
        "    ?individual rdfs:subClassOf ns:Person.\n",
        "}\n",
        "\"\"\"\n",
        "# Visualize the results\n",
        "for r in g.query(q2):\n",
        "  print(r)"
      ]
    },
    {
      "cell_type": "markdown",
      "metadata": {
        "id": "MXBqtBkJd22I"
      },
      "source": [
        "**TASK 7.3: List all individuals of just \"Person\" or \"Animal\". You do not need to list the individuals of the subclasses of person (in SPARQL only)**\n"
      ]
    },
    {
      "cell_type": "code",
      "execution_count": 30,
      "metadata": {
        "id": "APQGv3NHX8Tf",
        "colab": {
          "base_uri": "https://localhost:8080/"
        },
        "outputId": "d1978475-c052-4084-9c72-35951f1bfecc"
      },
      "outputs": [
        {
          "output_type": "stream",
          "name": "stdout",
          "text": [
            "(rdflib.term.URIRef('http://somewhere#SaraJones'),)\n",
            "(rdflib.term.URIRef('http://somewhere#JohnSmith'),)\n",
            "(rdflib.term.URIRef('http://somewhere#RockySmith'),)\n",
            "(rdflib.term.URIRef('http://somewhere#Bugs'),)\n"
          ]
        }
      ],
      "source": [
        "# TO DO\n",
        "q3 = \"\"\"\n",
        "PREFIX rdf: <http://www.w3.org/1999/02/22-rdf-syntax-ns#>\n",
        "PREFIX rdfs: <http://www.w3.org/2000/01/rdf-schema#>\n",
        "PREFIX ns: <http://somewhere#>\n",
        "SELECT ?individual WHERE {\n",
        "    { ?individual rdf:type ns:Person . }\n",
        "    UNION\n",
        "    { ?individual rdf:type ns:Animal . }\n",
        "}\n",
        "\"\"\"\n",
        "# Visualize the results\n",
        "for r in g.query(q3):\n",
        "  print(r)"
      ]
    },
    {
      "cell_type": "markdown",
      "source": [
        "**TASK 7.4:  List the name of the persons who know Rocky (in SPARQL only)**"
      ],
      "metadata": {
        "id": "3NyI7M2VNr9R"
      }
    },
    {
      "cell_type": "code",
      "source": [
        "# TO DO\n",
        "q4 = \"\"\"\n",
        "PREFIX rdf: <http://www.w3.org/1999/02/22-rdf-syntax-ns#>\n",
        "PREFIX rdfs: <http://www.w3.org/2000/01/rdf-schema#>\n",
        "PREFIX vcard: <http://www.w3.org/2001/vcard-rdf/3.0#>\n",
        "PREFIX ns: <http://somewhere#>\n",
        "PREFIX foaf: <http://xmlns.com/foaf/0.1#>\n",
        "SELECT ?name WHERE {\n",
        "    ?person rdf:type ns:Person .\n",
        "    ?person vcard:FN ?name .\n",
        "    ?person foaf:knows ns:RockySmith .\n",
        "}\n",
        "\"\"\"\n",
        "# Visualize the results\n",
        "for r in g.query(q4):\n",
        "  print(r)"
      ],
      "metadata": {
        "id": "I_CNoIKdNpbx"
      },
      "execution_count": 41,
      "outputs": []
    },
    {
      "cell_type": "markdown",
      "source": [
        "**Task 7.5: List the name of those animals who know at least another animal in the graph (in SPARQL only)**"
      ],
      "metadata": {
        "id": "kyjGsyxDPa2C"
      }
    },
    {
      "cell_type": "code",
      "source": [
        "# TO DO\n",
        "q5 = \"\"\"\n",
        "PREFIX rdf: <http://www.w3.org/1999/02/22-rdf-syntax-ns#>\n",
        "PREFIX rdfs: <http://www.w3.org/2000/01/rdf-schema#>\n",
        "PREFIX ns: <http://somewhere#>\n",
        "PREFIX foaf: <http://xmlns.com/foaf/0.1#>\n",
        "PREFIX vcard: <http://www.w3.org/2001/vcard-rdf/3.0#>\n",
        "SELECT DISTINCT ?animalName WHERE {\n",
        "    ?animal foaf:knows ?otherAnimal .  # ?animal knows another animal\n",
        "    ?animal rdf:type ns:Animal .      # Ensure the individual is an Animal\n",
        "    ?otherAnimal rdf:type ns:Animal . # Ensure the known individual is also an Animal\n",
        "    ?animal vcard:given ?animalName .   # Get the name of the animal\n",
        "}\n",
        "\"\"\"\n",
        "# Visualize the results\n",
        "for r in g.query(q5):\n",
        "  print(r)"
      ],
      "metadata": {
        "id": "yoVwVZUAPaLm"
      },
      "execution_count": 40,
      "outputs": []
    },
    {
      "cell_type": "markdown",
      "source": [
        "**Task 7.6: List the age of all living things in descending order (in SPARQL only)**"
      ],
      "metadata": {
        "id": "oU_Rd2ByXBaV"
      }
    },
    {
      "cell_type": "code",
      "source": [
        "# TO DO\n",
        "q6 = \"\"\"\n",
        "PREFIX rdf: <http://www.w3.org/1999/02/22-rdf-syntax-ns#>\n",
        "PREFIX rdfs: <http://www.w3.org/2000/01/rdf-schema#>\n",
        "PREFIX ns: <http://somewhere#>\n",
        "PREFIX foaf: <http://xmlns.com/foaf/0.1#>\n",
        "PREFIX vcard: <http://www.w3.org/2001/vcard-rdf/3.0#>\n",
        "SELECT ?livingThingName ?age WHERE {\n",
        "    ?livingThing rdf:type ns:LivingThing .    # Ensure the individual is a LivingThing\n",
        "    ?livingThing foaf:age ?age .                 # Get the age of the living thing\n",
        "    ?livingThing rdfs:label ?livingThingName .  # Get the name of the living thing\n",
        "}\n",
        "ORDER BY DESC(?age)  # Sort ages in descending order\n",
        "\"\"\"\n",
        "\n",
        "# Visualize the results\n",
        "for r in g.query(q6):\n",
        "  print(r)\n"
      ],
      "metadata": {
        "id": "KPL9SUPiXEJZ"
      },
      "execution_count": 43,
      "outputs": []
    }
  ],
  "metadata": {
    "colab": {
      "provenance": []
    },
    "kernelspec": {
      "display_name": "Python 3 (ipykernel)",
      "language": "python",
      "name": "python3"
    },
    "language_info": {
      "codemirror_mode": {
        "name": "ipython",
        "version": 3
      },
      "file_extension": ".py",
      "mimetype": "text/x-python",
      "name": "python",
      "nbconvert_exporter": "python",
      "pygments_lexer": "ipython3",
      "version": "3.9.5"
    }
  },
  "nbformat": 4,
  "nbformat_minor": 0
}