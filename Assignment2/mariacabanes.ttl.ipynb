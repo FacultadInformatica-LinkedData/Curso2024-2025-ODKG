{
  "nbformat": 4,
  "nbformat_minor": 0,
  "metadata": {
    "colab": {
      "provenance": []
    },
    "kernelspec": {
      "name": "python3",
      "display_name": "Python 3"
    },
    "language_info": {
      "name": "python"
    }
  },
  "cells": [
    {
      "cell_type": "code",
      "execution_count": null,
      "metadata": {
        "id": "4-kXQKizKK_R"
      },
      "outputs": [],
      "source": [
        "@prefix ex: <http://example.org/> .\n",
        "@prefix xsd: <http://www.w3.org/2001/XMLSchema#> .\n",
        "\n",
        "# Class01 includes Sensor029 and Computer101\n",
        "ex:Class01 a ex:Class ;\n",
        "    ex:includes ex:Sensor029 ;\n",
        "    ex:includes ex:Computer101 .\n",
        "\n",
        "# Sensor029 has a measurement Measurement8401\n",
        "ex:Sensor029 a ex:Sensor ;\n",
        "    ex:hasMeasurement ex:Measurement8401 .\n",
        "\n",
        "# Measurement8401 has a temperature value of 29 at time 2010-06-12T12:00:12\n",
        "ex:Measurement8401 a ex:Measurement ;\n",
        "    ex:hasTemperature \"29\"^^xsd:integer ;\n",
        "    ex:atTime \"2010-06-12T12:00:12\"^^xsd:dateTime .\n",
        "\n",
        "# Computer101 is owned by User10A\n",
        "ex:Computer101 a ex:Computer ;\n",
        "    ex:hasOwner ex:User10A .\n",
        "\n",
        "# User10A has a name Pedro\n",
        "ex:User10A a ex:User ;\n",
        "    ex:hasName \"Pedro\"^^xsd:string ."
      ]
    }
  ]
}